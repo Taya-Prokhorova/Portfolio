{
 "cells": [
  {
   "cell_type": "markdown",
   "id": "35792710",
   "metadata": {},
   "source": [
    "# Проведение А/А/В-тестирования"
   ]
  },
  {
   "cell_type": "markdown",
   "id": "b6f2ea08",
   "metadata": {},
   "source": [
    "## Содержание\n",
    "- 1. Загрузка данных\n",
    "- 2. Подготовка данных к анализу\n",
    "- 3. Изучение данных\n",
    "- 4. Изучение воронки событий\n",
    "- 5. Изучение результатов A/A/B-эксперимента\n",
    "- 6. Выводы"
   ]
  },
  {
   "cell_type": "markdown",
   "id": "cfc810e2",
   "metadata": {},
   "source": [
    "### Описание проекта\n",
    "\n",
    "Стартап заказчика занимается продажей продуктов питания. Нужно разобраться, как ведут себя пользователи его мобильного приложения.\n",
    "\n",
    "**Цели и задачи исследования**: \n",
    "\n",
    "**1. Изучить воронку продаж и узнать:** \n",
    "- как пользователи доходят до покупки;\n",
    "- сколько пользователей доходит до покупки;\n",
    "- сколько пользователей «застревает» на предыдущих шагах и на каких именно.\n",
    "\n",
    "**2. Исследовать результаты A/A/B-теста.**\n",
    "\n",
    "В приложении проведен A/A/B-эксперимент по замене шрифтов по предложению дизайнеров. Пользователей разбили на 3 группы: 2 контрольные со старыми шрифтами и одну экспериментальную — с новыми. Выясним, какой шрифт оказался лучше по результатам A/A/B-теста.\n",
    "\n",
    "**Работа пройдет в несколько этапов:**\n",
    "1. Загрузим данных и подготовим их к анализу.\n",
    "2. Проанализируем данные и изучим воронку продаж.\n",
    "3. Проанализируем результаты A/A/B-эксперимента и проверим, повлияло ли изменение шрифта на поведение пользователей.\n",
    "4. На основе полученных данных сделаем выводы и дадим рекомендации по улучшению приложения."
   ]
  },
  {
   "cell_type": "markdown",
   "id": "4a2c253d",
   "metadata": {},
   "source": [
    "## 1. Загрузка данных"
   ]
  },
  {
   "cell_type": "code",
   "execution_count": 1,
   "id": "d6da99b8",
   "metadata": {},
   "outputs": [],
   "source": [
    "#загрузим нужные библиотеки и функции\n",
    "import os\n",
    "import warnings\n",
    "import requests\n",
    "import datetime\n",
    "import pandas as pd\n",
    "from pandas.plotting import register_matplotlib_converters\n",
    "import matplotlib.pyplot as plt\n",
    "import matplotlib.ticker as mticker \n",
    "pd.options.display.max_colwidth = 100\n",
    "from plotly.offline import download_plotlyjs, init_notebook_mode, plot, iplot\n",
    "from plotly import graph_objects as go\n",
    "from scipy import stats as st\n",
    "import numpy as np\n",
    "import math as mth\n",
    "from cmath import sqrt"
   ]
  },
  {
   "cell_type": "markdown",
   "id": "48e6f4ce",
   "metadata": {},
   "source": [
    "Загрузим данные о поведении пользователей мобильного приложения покупки продуктов питания:\n",
    "\n",
    " -   `/logs_exp.csv`"
   ]
  },
  {
   "cell_type": "markdown",
   "id": "98da01bb",
   "metadata": {},
   "source": [
    "Прочитаем файл из папки, в которой он хранится, и сохраним его:"
   ]
  },
  {
   "cell_type": "code",
   "execution_count": 2,
   "id": "1422deae",
   "metadata": {},
   "outputs": [],
   "source": [
    "files = ['logs_exp']\n",
    "       \n",
    "for name in files:\n",
    "    pth1 = '/Users/taisiia.prokhorova/Documents/Яндекс/проекты/project-2/' + str(name) + '.csv'\n",
    "    pth2 = '/datasets/' + str(name) + '.csv'\n",
    "    if os.path.exists(pth1):\n",
    "        df = pd.read_csv(pth1, sep='\\t')\n",
    "    elif os.path.exists(pth2):\n",
    "        df = pd.read_csv(pth2, sep='\\t')\n",
    "    else:\n",
    "        print('Something is wrong')"
   ]
  },
  {
   "cell_type": "markdown",
   "id": "a579cd24",
   "metadata": {},
   "source": [
    "Выведем на экран общую информацию о таблице и первые 5 строк:"
   ]
  },
  {
   "cell_type": "code",
   "execution_count": 3,
   "id": "1bef08f0",
   "metadata": {},
   "outputs": [
    {
     "name": "stdout",
     "output_type": "stream",
     "text": [
      "<class 'pandas.core.frame.DataFrame'>\n",
      "RangeIndex: 244126 entries, 0 to 244125\n",
      "Data columns (total 4 columns):\n",
      " #   Column          Non-Null Count   Dtype \n",
      "---  ------          --------------   ----- \n",
      " 0   EventName       244126 non-null  object\n",
      " 1   DeviceIDHash    244126 non-null  int64 \n",
      " 2   EventTimestamp  244126 non-null  int64 \n",
      " 3   ExpId           244126 non-null  int64 \n",
      "dtypes: int64(3), object(1)\n",
      "memory usage: 7.5+ MB\n"
     ]
    },
    {
     "data": {
      "text/html": [
       "<div>\n",
       "<style scoped>\n",
       "    .dataframe tbody tr th:only-of-type {\n",
       "        vertical-align: middle;\n",
       "    }\n",
       "\n",
       "    .dataframe tbody tr th {\n",
       "        vertical-align: top;\n",
       "    }\n",
       "\n",
       "    .dataframe thead th {\n",
       "        text-align: right;\n",
       "    }\n",
       "</style>\n",
       "<table border=\"1\" class=\"dataframe\">\n",
       "  <thead>\n",
       "    <tr style=\"text-align: right;\">\n",
       "      <th></th>\n",
       "      <th>EventName</th>\n",
       "      <th>DeviceIDHash</th>\n",
       "      <th>EventTimestamp</th>\n",
       "      <th>ExpId</th>\n",
       "    </tr>\n",
       "  </thead>\n",
       "  <tbody>\n",
       "    <tr>\n",
       "      <th>0</th>\n",
       "      <td>MainScreenAppear</td>\n",
       "      <td>4575588528974610257</td>\n",
       "      <td>1564029816</td>\n",
       "      <td>246</td>\n",
       "    </tr>\n",
       "    <tr>\n",
       "      <th>1</th>\n",
       "      <td>MainScreenAppear</td>\n",
       "      <td>7416695313311560658</td>\n",
       "      <td>1564053102</td>\n",
       "      <td>246</td>\n",
       "    </tr>\n",
       "    <tr>\n",
       "      <th>2</th>\n",
       "      <td>PaymentScreenSuccessful</td>\n",
       "      <td>3518123091307005509</td>\n",
       "      <td>1564054127</td>\n",
       "      <td>248</td>\n",
       "    </tr>\n",
       "    <tr>\n",
       "      <th>3</th>\n",
       "      <td>CartScreenAppear</td>\n",
       "      <td>3518123091307005509</td>\n",
       "      <td>1564054127</td>\n",
       "      <td>248</td>\n",
       "    </tr>\n",
       "    <tr>\n",
       "      <th>4</th>\n",
       "      <td>PaymentScreenSuccessful</td>\n",
       "      <td>6217807653094995999</td>\n",
       "      <td>1564055322</td>\n",
       "      <td>248</td>\n",
       "    </tr>\n",
       "  </tbody>\n",
       "</table>\n",
       "</div>"
      ],
      "text/plain": [
       "                 EventName         DeviceIDHash  EventTimestamp  ExpId\n",
       "0         MainScreenAppear  4575588528974610257      1564029816    246\n",
       "1         MainScreenAppear  7416695313311560658      1564053102    246\n",
       "2  PaymentScreenSuccessful  3518123091307005509      1564054127    248\n",
       "3         CartScreenAppear  3518123091307005509      1564054127    248\n",
       "4  PaymentScreenSuccessful  6217807653094995999      1564055322    248"
      ]
     },
     "execution_count": 3,
     "metadata": {},
     "output_type": "execute_result"
    }
   ],
   "source": [
    "df.info()\n",
    "df.head()"
   ]
  },
  {
   "cell_type": "code",
   "execution_count": 4,
   "id": "8892bf92",
   "metadata": {},
   "outputs": [
    {
     "data": {
      "text/plain": [
       "EventName         0\n",
       "DeviceIDHash      0\n",
       "EventTimestamp    0\n",
       "ExpId             0\n",
       "dtype: int64"
      ]
     },
     "metadata": {},
     "output_type": "display_data"
    }
   ],
   "source": [
    "#проверим количество пропусков\n",
    "display(df.isna().sum())"
   ]
  },
  {
   "cell_type": "markdown",
   "id": "2f0fbc66",
   "metadata": {},
   "source": [
    "Пропущенных данных в таблице нет. В таблице 4 столбца - текстовые имеют формат `object`, числовые `int`. При этом ячейки, содержащие информацию о дате и времени также имеют формат `int` - это нужно будет исправить."
   ]
  },
  {
   "cell_type": "markdown",
   "id": "192a7845",
   "metadata": {},
   "source": [
    "**Описание данных**\n",
    "\n",
    "Каждая запись в логе — это действие пользователя, или событие:\n",
    "- `EventName` — название события;\n",
    "- `DeviceIDHash` — уникальный идентификатор пользователя;\n",
    "- `EventTimestamp` — время события;\n",
    "- `ExpId` — номер эксперимента: 246 и 247 — контрольные группы, а 248 — экспериментальная."
   ]
  },
  {
   "cell_type": "markdown",
   "id": "b1ab8c53",
   "metadata": {},
   "source": [
    "Теперь приведем данные в нужный формат и подготвим к анализу."
   ]
  },
  {
   "cell_type": "markdown",
   "id": "7520cc94",
   "metadata": {},
   "source": [
    "## 2. Подготовка данных к анализу"
   ]
  },
  {
   "cell_type": "markdown",
   "id": "12bb6d42",
   "metadata": {},
   "source": [
    "Проверим наличие дубликатов в таблице:"
   ]
  },
  {
   "cell_type": "code",
   "execution_count": 5,
   "id": "eda8772a",
   "metadata": {},
   "outputs": [
    {
     "name": "stdout",
     "output_type": "stream",
     "text": [
      "Количество дубликатов в таблице: 413\n"
     ]
    }
   ],
   "source": [
    "#проверим количество дубликатов\n",
    "print(f'Количество дубликатов в таблице:', df.duplicated().sum()) "
   ]
  },
  {
   "cell_type": "markdown",
   "id": "11211eb3",
   "metadata": {},
   "source": [
    "В таблице 413 строк дублируются. Удалим их:"
   ]
  },
  {
   "cell_type": "code",
   "execution_count": 6,
   "id": "3cd805d2",
   "metadata": {},
   "outputs": [],
   "source": [
    "#удалим дубликаты строк, перепишем индексы\n",
    "df = df.drop_duplicates().reset_index(drop=True)"
   ]
  },
  {
   "cell_type": "markdown",
   "id": "84a77db8",
   "metadata": {},
   "source": [
    "Заменим названия столбцов в соответствии с принятыми правилами:"
   ]
  },
  {
   "cell_type": "code",
   "execution_count": 7,
   "id": "5d6af339",
   "metadata": {},
   "outputs": [],
   "source": [
    "#назначим новые названия столбцов\n",
    "df.columns = ['event_name', 'device_id', 'event_timestamp', 'group']"
   ]
  },
  {
   "cell_type": "markdown",
   "id": "3fb5b30d",
   "metadata": {},
   "source": [
    "Переведем столбец с датой в нужный формат `datetime`:"
   ]
  },
  {
   "cell_type": "code",
   "execution_count": 8,
   "id": "d30dc20f",
   "metadata": {},
   "outputs": [],
   "source": [
    "df['event_timestamp'] = pd.to_datetime(df['event_timestamp'], unit='s')"
   ]
  },
  {
   "cell_type": "markdown",
   "id": "ebfb7ea4",
   "metadata": {},
   "source": [
    "Добавим столбцы даты и времени, а также отдельный столбец с датой:"
   ]
  },
  {
   "cell_type": "code",
   "execution_count": 9,
   "id": "bef81287",
   "metadata": {},
   "outputs": [],
   "source": [
    "#добавим столбец с датой\n",
    "df['date'] = df['event_timestamp'].dt.date"
   ]
  },
  {
   "cell_type": "code",
   "execution_count": 10,
   "id": "ed6f7a70",
   "metadata": {},
   "outputs": [],
   "source": [
    "#добавим столбец со временем\n",
    "df['time'] = df['event_timestamp'].dt.time"
   ]
  },
  {
   "cell_type": "code",
   "execution_count": 11,
   "id": "6a053bb4",
   "metadata": {},
   "outputs": [],
   "source": [
    "#добавим столбец с днем\n",
    "df['day'] = pd.DatetimeIndex(df['event_timestamp']).day"
   ]
  },
  {
   "cell_type": "markdown",
   "id": "4f96d0bb",
   "metadata": {},
   "source": [
    "Проверим результат:"
   ]
  },
  {
   "cell_type": "code",
   "execution_count": 12,
   "id": "20cb114e",
   "metadata": {
    "scrolled": false
   },
   "outputs": [
    {
     "name": "stdout",
     "output_type": "stream",
     "text": [
      "<class 'pandas.core.frame.DataFrame'>\n",
      "RangeIndex: 243713 entries, 0 to 243712\n",
      "Data columns (total 7 columns):\n",
      " #   Column           Non-Null Count   Dtype         \n",
      "---  ------           --------------   -----         \n",
      " 0   event_name       243713 non-null  object        \n",
      " 1   device_id        243713 non-null  int64         \n",
      " 2   event_timestamp  243713 non-null  datetime64[ns]\n",
      " 3   group            243713 non-null  int64         \n",
      " 4   date             243713 non-null  object        \n",
      " 5   time             243713 non-null  object        \n",
      " 6   day              243713 non-null  int64         \n",
      "dtypes: datetime64[ns](1), int64(3), object(3)\n",
      "memory usage: 13.0+ MB\n"
     ]
    },
    {
     "data": {
      "text/html": [
       "<div>\n",
       "<style scoped>\n",
       "    .dataframe tbody tr th:only-of-type {\n",
       "        vertical-align: middle;\n",
       "    }\n",
       "\n",
       "    .dataframe tbody tr th {\n",
       "        vertical-align: top;\n",
       "    }\n",
       "\n",
       "    .dataframe thead th {\n",
       "        text-align: right;\n",
       "    }\n",
       "</style>\n",
       "<table border=\"1\" class=\"dataframe\">\n",
       "  <thead>\n",
       "    <tr style=\"text-align: right;\">\n",
       "      <th></th>\n",
       "      <th>event_name</th>\n",
       "      <th>device_id</th>\n",
       "      <th>event_timestamp</th>\n",
       "      <th>group</th>\n",
       "      <th>date</th>\n",
       "      <th>time</th>\n",
       "      <th>day</th>\n",
       "    </tr>\n",
       "  </thead>\n",
       "  <tbody>\n",
       "    <tr>\n",
       "      <th>0</th>\n",
       "      <td>MainScreenAppear</td>\n",
       "      <td>4575588528974610257</td>\n",
       "      <td>2019-07-25 04:43:36</td>\n",
       "      <td>246</td>\n",
       "      <td>2019-07-25</td>\n",
       "      <td>04:43:36</td>\n",
       "      <td>25</td>\n",
       "    </tr>\n",
       "    <tr>\n",
       "      <th>1</th>\n",
       "      <td>MainScreenAppear</td>\n",
       "      <td>7416695313311560658</td>\n",
       "      <td>2019-07-25 11:11:42</td>\n",
       "      <td>246</td>\n",
       "      <td>2019-07-25</td>\n",
       "      <td>11:11:42</td>\n",
       "      <td>25</td>\n",
       "    </tr>\n",
       "    <tr>\n",
       "      <th>2</th>\n",
       "      <td>PaymentScreenSuccessful</td>\n",
       "      <td>3518123091307005509</td>\n",
       "      <td>2019-07-25 11:28:47</td>\n",
       "      <td>248</td>\n",
       "      <td>2019-07-25</td>\n",
       "      <td>11:28:47</td>\n",
       "      <td>25</td>\n",
       "    </tr>\n",
       "    <tr>\n",
       "      <th>3</th>\n",
       "      <td>CartScreenAppear</td>\n",
       "      <td>3518123091307005509</td>\n",
       "      <td>2019-07-25 11:28:47</td>\n",
       "      <td>248</td>\n",
       "      <td>2019-07-25</td>\n",
       "      <td>11:28:47</td>\n",
       "      <td>25</td>\n",
       "    </tr>\n",
       "    <tr>\n",
       "      <th>4</th>\n",
       "      <td>PaymentScreenSuccessful</td>\n",
       "      <td>6217807653094995999</td>\n",
       "      <td>2019-07-25 11:48:42</td>\n",
       "      <td>248</td>\n",
       "      <td>2019-07-25</td>\n",
       "      <td>11:48:42</td>\n",
       "      <td>25</td>\n",
       "    </tr>\n",
       "  </tbody>\n",
       "</table>\n",
       "</div>"
      ],
      "text/plain": [
       "                event_name            device_id     event_timestamp  group  \\\n",
       "0         MainScreenAppear  4575588528974610257 2019-07-25 04:43:36    246   \n",
       "1         MainScreenAppear  7416695313311560658 2019-07-25 11:11:42    246   \n",
       "2  PaymentScreenSuccessful  3518123091307005509 2019-07-25 11:28:47    248   \n",
       "3         CartScreenAppear  3518123091307005509 2019-07-25 11:28:47    248   \n",
       "4  PaymentScreenSuccessful  6217807653094995999 2019-07-25 11:48:42    248   \n",
       "\n",
       "         date      time  day  \n",
       "0  2019-07-25  04:43:36   25  \n",
       "1  2019-07-25  11:11:42   25  \n",
       "2  2019-07-25  11:28:47   25  \n",
       "3  2019-07-25  11:28:47   25  \n",
       "4  2019-07-25  11:48:42   25  "
      ]
     },
     "execution_count": 12,
     "metadata": {},
     "output_type": "execute_result"
    }
   ],
   "source": [
    "#выведем общую информацию о таблице и первые 5 строк\n",
    "df.info()\n",
    "df.head()"
   ]
  },
  {
   "cell_type": "markdown",
   "id": "997c50ed",
   "metadata": {},
   "source": [
    "Мы проверили наличие в таблице пустых ячеек, удалили дубликаты. Привели данные во всех столбцах к нужному формату. Добавили столбцы с интересующими нас данными.\n",
    "\n",
    "Теперь изучим подробнее содержание данных в таблице. "
   ]
  },
  {
   "cell_type": "markdown",
   "id": "38eef1b8",
   "metadata": {},
   "source": [
    "## 3. Изучение данных"
   ]
  },
  {
   "cell_type": "markdown",
   "id": "92e7f869",
   "metadata": {},
   "source": [
    "**Проверим, сколько всего событий в логе:**"
   ]
  },
  {
   "cell_type": "code",
   "execution_count": 13,
   "id": "775acff3",
   "metadata": {},
   "outputs": [
    {
     "data": {
      "text/plain": [
       "243713"
      ]
     },
     "execution_count": 13,
     "metadata": {},
     "output_type": "execute_result"
    }
   ],
   "source": [
    "#посчитаем общее количество строк в таблице\n",
    "df['event_name'].count()"
   ]
  },
  {
   "cell_type": "markdown",
   "id": "ee7f1bd3",
   "metadata": {},
   "source": [
    "В таблице информация о 243713 действиях пользователей. Посмотрим, как они распределяются по событиям:"
   ]
  },
  {
   "cell_type": "code",
   "execution_count": 14,
   "id": "85c45598",
   "metadata": {},
   "outputs": [
    {
     "data": {
      "text/plain": [
       "MainScreenAppear           119101\n",
       "OffersScreenAppear          46808\n",
       "CartScreenAppear            42668\n",
       "PaymentScreenSuccessful     34118\n",
       "Tutorial                     1018\n",
       "Name: event_name, dtype: int64"
      ]
     },
     "metadata": {},
     "output_type": "display_data"
    }
   ],
   "source": [
    "#посчитаем количество строк для каждого события\n",
    "display(df['event_name'].value_counts())"
   ]
  },
  {
   "cell_type": "markdown",
   "id": "a51fc6f6",
   "metadata": {},
   "source": [
    "Итак, в таблице данные о 5 событиях:\n",
    "\n",
    "- `MainScreenAppear`\t- Главный экран\n",
    "- `OffersScreenAppear`\t- Экран предложений\n",
    "-\t`CartScreenAppear`\t- Экран корзины\n",
    "-\t`PaymentScreenSuccessful` - Оплата прошла успешно\n",
    "-\t`Tutorial` - Руководство\n",
    "\n",
    "При этом количество действий по каждому событию распределено не равномерно. Больше всего пользователи заходили на главный экран, а меньше всего - читали руководство."
   ]
  },
  {
   "cell_type": "markdown",
   "id": "2c41be99",
   "metadata": {},
   "source": [
    "**Проверим, сколько всего пользователей в логе:**"
   ]
  },
  {
   "cell_type": "code",
   "execution_count": 15,
   "id": "40412f75",
   "metadata": {},
   "outputs": [
    {
     "data": {
      "text/plain": [
       "7551"
      ]
     },
     "execution_count": 15,
     "metadata": {},
     "output_type": "execute_result"
    }
   ],
   "source": [
    "#посчитаем количество уникальных устройств\n",
    "df['device_id'].nunique()"
   ]
  },
  {
   "cell_type": "markdown",
   "id": "5a130aa6",
   "metadata": {},
   "source": [
    "В таблице 7551 уникальный пользователь."
   ]
  },
  {
   "cell_type": "markdown",
   "id": "5f9561df",
   "metadata": {},
   "source": [
    "**Посмотрим, сколько в среднем событий приходится на одного пользователя**"
   ]
  },
  {
   "cell_type": "code",
   "execution_count": 16,
   "id": "813a770d",
   "metadata": {},
   "outputs": [
    {
     "data": {
      "text/plain": [
       "32.27559263673685"
      ]
     },
     "execution_count": 16,
     "metadata": {},
     "output_type": "execute_result"
    }
   ],
   "source": [
    "#разделим общее количество событий на число уникальных пользователей \n",
    "df['event_name'].count() / df['device_id'].nunique()"
   ]
  },
  {
   "cell_type": "markdown",
   "id": "e43d3b4b",
   "metadata": {},
   "source": [
    "Один пользователь в среднем совершил 32 действия в приложении за рассматриваемый период. Найдем медиану событий на одного пользователя:"
   ]
  },
  {
   "cell_type": "code",
   "execution_count": 17,
   "id": "d055f9a0",
   "metadata": {},
   "outputs": [
    {
     "data": {
      "text/plain": [
       "device_id  count    20.0\n",
       "dtype: float64"
      ]
     },
     "execution_count": 17,
     "metadata": {},
     "output_type": "execute_result"
    }
   ],
   "source": [
    "#сгруппируем количество событий на каждого пользователя и найдем медиану значений\n",
    "df.groupby('device_id').agg({'device_id':['count']}).median()"
   ]
  },
  {
   "cell_type": "markdown",
   "id": "fcfe75e0",
   "metadata": {},
   "source": [
    "Мединнаое количество событий - 20. Медиана меньше, чем среднее, это значит, что в выборке есть выбросы с пользователями, которые совершили аномально большое количество событий. Посмотрим, в каком диапазоне находятся эти значения: "
   ]
  },
  {
   "cell_type": "code",
   "execution_count": 18,
   "id": "512146c2",
   "metadata": {
    "scrolled": true
   },
   "outputs": [
    {
     "data": {
      "text/plain": [
       "device_id  count    1\n",
       "dtype: int64"
      ]
     },
     "execution_count": 18,
     "metadata": {},
     "output_type": "execute_result"
    }
   ],
   "source": [
    "#найдем минимальное количество событий\n",
    "df.groupby('device_id').agg({'device_id':['count']}).min()"
   ]
  },
  {
   "cell_type": "code",
   "execution_count": 19,
   "id": "b4e59382",
   "metadata": {},
   "outputs": [
    {
     "data": {
      "text/plain": [
       "device_id  count    2307\n",
       "dtype: int64"
      ]
     },
     "execution_count": 19,
     "metadata": {},
     "output_type": "execute_result"
    }
   ],
   "source": [
    "#найдем максимальное количество событий\n",
    "df.groupby('device_id').agg({'device_id':['count']}).max()"
   ]
  },
  {
   "cell_type": "markdown",
   "id": "d0964b46",
   "metadata": {},
   "source": [
    "Минимальное количество событий на одного пользователя - 1. Скорее всего, пользователь только открыл главный экран приложения. Максимальное - 2306. Какой-то пользователь был чрезвычайно активен."
   ]
  },
  {
   "cell_type": "markdown",
   "id": "2e359162",
   "metadata": {},
   "source": [
    "**Посмотрим, за какой период представлены данные: найдем максимальную и минимальную дату:**"
   ]
  },
  {
   "cell_type": "code",
   "execution_count": 20,
   "id": "60c10b2c",
   "metadata": {},
   "outputs": [
    {
     "data": {
      "text/plain": [
       "datetime.date(2019, 7, 25)"
      ]
     },
     "execution_count": 20,
     "metadata": {},
     "output_type": "execute_result"
    }
   ],
   "source": [
    "#определим минимальную дату\n",
    "df['date'].min()"
   ]
  },
  {
   "cell_type": "code",
   "execution_count": 21,
   "id": "33cc95ff",
   "metadata": {},
   "outputs": [
    {
     "data": {
      "text/plain": [
       "datetime.date(2019, 8, 7)"
      ]
     },
     "execution_count": 21,
     "metadata": {},
     "output_type": "execute_result"
    }
   ],
   "source": [
    "#определим максимальную дату\n",
    "df['date'].max()"
   ]
  },
  {
   "cell_type": "markdown",
   "id": "298ad314",
   "metadata": {},
   "source": [
    "В таблице есть данные с 25 июля 2019 г. по 7 августа 2019 г. "
   ]
  },
  {
   "cell_type": "markdown",
   "id": "25a05f80",
   "metadata": {},
   "source": [
    "**Построим гистограмму по дате и времени, чтобы проверить, как распределяются данные за период наблюдения:** "
   ]
  },
  {
   "cell_type": "code",
   "execution_count": 22,
   "id": "82741f71",
   "metadata": {},
   "outputs": [
    {
     "data": {
      "image/png": "[encoded data removed]",
      "text/plain": [
       "<Figure size 1080x360 with 1 Axes>"
      ]
     },
     "metadata": {
      "needs_background": "light"
     },
     "output_type": "display_data"
    }
   ],
   "source": [
    "#построим гистограмму \n",
    "plt.figure(figsize=(15, 5)) \n",
    "df['event_timestamp'].hist(bins=100) \n",
    "plt.xlabel('Дата')\n",
    "plt.ylabel('Количество событий в логе')\n",
    "plt.title('Распределение событий по времени')\n",
    "plt.show()"
   ]
  },
  {
   "cell_type": "markdown",
   "id": "b2e96cda",
   "metadata": {},
   "source": [
    "Технически в логи новых дней по некоторым пользователям могут «доезжать» события из прошлого — это может «перекашивать данные». Как мы видим, до 1 августа 2019 г. у нас есть только отрывочные «старые» данные. \n",
    "\n",
    "Полные данные есть только за период с 1 по 7 августа 2019 г. Выделим эти данные в новый датасет:"
   ]
  },
  {
   "cell_type": "code",
   "execution_count": 23,
   "id": "cfe17cbd",
   "metadata": {},
   "outputs": [],
   "source": [
    "#сохраним в новую переменную данные после 01.08.2019 включительно\n",
    "df_2 = df[df['date'] >= datetime.date(2019,8,1)]"
   ]
  },
  {
   "cell_type": "markdown",
   "id": "fc4ce3d8",
   "metadata": {},
   "source": [
    "Проверим, много ли событий и пользователей мы потеряли, отбросив старые данные:"
   ]
  },
  {
   "cell_type": "code",
   "execution_count": 24,
   "id": "34255ad4",
   "metadata": {},
   "outputs": [],
   "source": [
    "#сохраним в новую переменную данные до 01.08.2019\n",
    "df_old = df[df['date'] < datetime.date(2019,8,1)]"
   ]
  },
  {
   "cell_type": "code",
   "execution_count": 25,
   "id": "b4cabe44",
   "metadata": {},
   "outputs": [
    {
     "name": "stdout",
     "output_type": "stream",
     "text": [
      "Отброшено событий: 2826\n",
      "Отброшено пользователей: 1451\n"
     ]
    }
   ],
   "source": [
    "#посчитаем количество отброшенных событий и уникальных пользователей\n",
    "print(f'Отброшено событий:', df_old['event_name'].count())\n",
    "print(f'Отброшено пользователей:', df_old['device_id'].nunique())"
   ]
  },
  {
   "cell_type": "markdown",
   "id": "43878b4c",
   "metadata": {},
   "source": [
    "Мы отбросили 2826 событий из 243713 (1,1%). Проверим, сколько уникальных пользователей мы удалили полностью:"
   ]
  },
  {
   "cell_type": "code",
   "execution_count": 26,
   "id": "56db84ce",
   "metadata": {},
   "outputs": [
    {
     "name": "stdout",
     "output_type": "stream",
     "text": [
      "Количество уникальных старых пользователей: 17\n"
     ]
    }
   ],
   "source": [
    "#проверим наличие id отброшенных пользователей в оставшихся данных\n",
    "#найдем id пользователей, которых нет в оставшихся данных\n",
    "unique_old = 0\n",
    "for old_id in df_old['device_id'].unique():\n",
    "    if old_id not in df_2['device_id'].unique():\n",
    "        unique_old = unique_old + 1\n",
    "print('Количество уникальных старых пользователей:', unique_old)"
   ]
  },
  {
   "cell_type": "code",
   "execution_count": 27,
   "id": "64eac667",
   "metadata": {},
   "outputs": [
    {
     "name": "stdout",
     "output_type": "stream",
     "text": [
      "Количество уникальных пользователей: 7534\n"
     ]
    }
   ],
   "source": [
    "print('Количество уникальных пользователей:', df_2['device_id'].nunique())"
   ]
  },
  {
   "cell_type": "markdown",
   "id": "74116ae9",
   "metadata": {},
   "source": [
    "Из 1451 пользователей, данные о которых до 1 августа 2019 г. мы удалили, всего по 17 (меньше 1%) есть данные только за старый период. Остальные пользователи совершали действия и после 1 августа 2019 г."
   ]
  },
  {
   "cell_type": "markdown",
   "id": "3cd47c20",
   "metadata": {},
   "source": [
    "**Проверим количество пользователей в каждой из групп:**"
   ]
  },
  {
   "cell_type": "code",
   "execution_count": 28,
   "id": "c9873808",
   "metadata": {},
   "outputs": [
    {
     "data": {
      "text/html": [
       "<div>\n",
       "<style scoped>\n",
       "    .dataframe tbody tr th:only-of-type {\n",
       "        vertical-align: middle;\n",
       "    }\n",
       "\n",
       "    .dataframe tbody tr th {\n",
       "        vertical-align: top;\n",
       "    }\n",
       "\n",
       "    .dataframe thead tr th {\n",
       "        text-align: left;\n",
       "    }\n",
       "</style>\n",
       "<table border=\"1\" class=\"dataframe\">\n",
       "  <thead>\n",
       "    <tr>\n",
       "      <th></th>\n",
       "      <th>group</th>\n",
       "      <th colspan=\"2\" halign=\"left\">device_id</th>\n",
       "    </tr>\n",
       "    <tr>\n",
       "      <th></th>\n",
       "      <th></th>\n",
       "      <th>nunique</th>\n",
       "      <th>count</th>\n",
       "    </tr>\n",
       "  </thead>\n",
       "  <tbody>\n",
       "    <tr>\n",
       "      <th>0</th>\n",
       "      <td>246</td>\n",
       "      <td>2484</td>\n",
       "      <td>79302</td>\n",
       "    </tr>\n",
       "    <tr>\n",
       "      <th>1</th>\n",
       "      <td>247</td>\n",
       "      <td>2513</td>\n",
       "      <td>77022</td>\n",
       "    </tr>\n",
       "    <tr>\n",
       "      <th>2</th>\n",
       "      <td>248</td>\n",
       "      <td>2537</td>\n",
       "      <td>84563</td>\n",
       "    </tr>\n",
       "  </tbody>\n",
       "</table>\n",
       "</div>"
      ],
      "text/plain": [
       "  group device_id       \n",
       "          nunique  count\n",
       "0   246      2484  79302\n",
       "1   247      2513  77022\n",
       "2   248      2537  84563"
      ]
     },
     "execution_count": 28,
     "metadata": {},
     "output_type": "execute_result"
    }
   ],
   "source": [
    "#сгруппируем данные по группам и вычислим количество уникальных пользователей и количество событий для каждо\n",
    "df_2.groupby('group').agg({'device_id':['nunique', 'count']}).reset_index()"
   ]
  },
  {
   "cell_type": "markdown",
   "id": "dfe96de8",
   "metadata": {},
   "source": [
    "Посмотрим, не попали ли одни и те же пользователи в разные группы:"
   ]
  },
  {
   "cell_type": "code",
   "execution_count": 29,
   "id": "a1d543e9",
   "metadata": {},
   "outputs": [
    {
     "data": {
      "text/plain": [
       "Series([], Name: group, dtype: int64)"
      ]
     },
     "execution_count": 29,
     "metadata": {},
     "output_type": "execute_result"
    }
   ],
   "source": [
    "#проверим пересечение id пользователей между группами\n",
    "df_2.groupby('device_id')['group'].nunique()[df_2.groupby('device_id')['group'].nunique() > 1]"
   ]
  },
  {
   "cell_type": "markdown",
   "id": "57b55243",
   "metadata": {},
   "source": [
    "Дубликатов пользователей между экспериментальными группами нет, значит, потоки пользователей для групп А/А/В разделены корректно.  "
   ]
  },
  {
   "cell_type": "markdown",
   "id": "c9bd5b47",
   "metadata": {},
   "source": [
    "Итак, у нас остались данные по поведению пользователей в мобильном приложении:\n",
    "- с 1 по 7 августа 2019 г.\n",
    "- по 7534 уникальным пользователям, которые разделены на 3 экспериментальные группы.\n",
    "\n",
    "Изучим воронку событий, которую проходят пользователи."
   ]
  },
  {
   "cell_type": "markdown",
   "id": "3c8e356b",
   "metadata": {},
   "source": [
    "## 4. Изучение воронки событий"
   ]
  },
  {
   "cell_type": "markdown",
   "id": "6a4346b3",
   "metadata": {},
   "source": [
    "**Посмотрим, какие события есть в логах, как часто они встречаются. Отсортируем события по частоте.**"
   ]
  },
  {
   "cell_type": "code",
   "execution_count": 30,
   "id": "cd090959",
   "metadata": {},
   "outputs": [
    {
     "data": {
      "text/plain": [
       "MainScreenAppear           117328\n",
       "OffersScreenAppear          46333\n",
       "CartScreenAppear            42303\n",
       "PaymentScreenSuccessful     33918\n",
       "Tutorial                     1005\n",
       "Name: event_name, dtype: int64"
      ]
     },
     "metadata": {},
     "output_type": "display_data"
    }
   ],
   "source": [
    "#посчитаем, как часто встречается каждое событие \n",
    "display(df_2['event_name'].value_counts())"
   ]
  },
  {
   "cell_type": "markdown",
   "id": "bf5c9f75",
   "metadata": {},
   "source": [
    "Чаще всего встречается событие MainScreenAppear - \"Главный экран\" - 117328 раз. Это логично, чтобы совершить какое-либо действие в приложении, нужно для начала зайти на главный экран."
   ]
  },
  {
   "cell_type": "markdown",
   "id": "ec8679b5",
   "metadata": {},
   "source": [
    "**Посчитаем, сколько пользователей совершали каждое из этих событий. Отсортируем события по числу пользователей.**"
   ]
  },
  {
   "cell_type": "code",
   "execution_count": 31,
   "id": "223e0b5e",
   "metadata": {},
   "outputs": [
    {
     "data": {
      "text/html": [
       "<div>\n",
       "<style scoped>\n",
       "    .dataframe tbody tr th:only-of-type {\n",
       "        vertical-align: middle;\n",
       "    }\n",
       "\n",
       "    .dataframe tbody tr th {\n",
       "        vertical-align: top;\n",
       "    }\n",
       "\n",
       "    .dataframe thead th {\n",
       "        text-align: right;\n",
       "    }\n",
       "</style>\n",
       "<table border=\"1\" class=\"dataframe\">\n",
       "  <thead>\n",
       "    <tr style=\"text-align: right;\">\n",
       "      <th></th>\n",
       "      <th>event_name</th>\n",
       "      <th>unique_users</th>\n",
       "      <th>event_count</th>\n",
       "    </tr>\n",
       "  </thead>\n",
       "  <tbody>\n",
       "    <tr>\n",
       "      <th>0</th>\n",
       "      <td>MainScreenAppear</td>\n",
       "      <td>7419</td>\n",
       "      <td>117328</td>\n",
       "    </tr>\n",
       "    <tr>\n",
       "      <th>1</th>\n",
       "      <td>OffersScreenAppear</td>\n",
       "      <td>4593</td>\n",
       "      <td>46333</td>\n",
       "    </tr>\n",
       "    <tr>\n",
       "      <th>2</th>\n",
       "      <td>CartScreenAppear</td>\n",
       "      <td>3734</td>\n",
       "      <td>42303</td>\n",
       "    </tr>\n",
       "    <tr>\n",
       "      <th>3</th>\n",
       "      <td>PaymentScreenSuccessful</td>\n",
       "      <td>3539</td>\n",
       "      <td>33918</td>\n",
       "    </tr>\n",
       "    <tr>\n",
       "      <th>4</th>\n",
       "      <td>Tutorial</td>\n",
       "      <td>840</td>\n",
       "      <td>1005</td>\n",
       "    </tr>\n",
       "  </tbody>\n",
       "</table>\n",
       "</div>"
      ],
      "text/plain": [
       "                event_name  unique_users  event_count\n",
       "0         MainScreenAppear          7419       117328\n",
       "1       OffersScreenAppear          4593        46333\n",
       "2         CartScreenAppear          3734        42303\n",
       "3  PaymentScreenSuccessful          3539        33918\n",
       "4                 Tutorial           840         1005"
      ]
     },
     "metadata": {},
     "output_type": "display_data"
    }
   ],
   "source": [
    "#посчитаем, сколько уникальных пользователей совершали каждое событие и сколько раз совершали событие\n",
    "#отсортируем события по частоте\n",
    "events = df_2.groupby('event_name', as_index=False).agg({'device_id':['nunique','count']})\n",
    "events.columns = ['event_name', 'unique_users', 'event_count']\n",
    "events = events.sort_values(by='unique_users', ascending=False).reset_index(drop=True)\n",
    "display(events)"
   ]
  },
  {
   "cell_type": "markdown",
   "id": "e4a51471",
   "metadata": {},
   "source": [
    "Больше всего пользователей также совершили событие MainScreenAppear - \"Главный экран\" - 7419 человек. "
   ]
  },
  {
   "cell_type": "markdown",
   "id": "47f5760e",
   "metadata": {},
   "source": [
    "**Посчитаем долю пользователей, которые хоть раз совершали событие.**"
   ]
  },
  {
   "cell_type": "code",
   "execution_count": 32,
   "id": "63503eb6",
   "metadata": {},
   "outputs": [
    {
     "name": "stdout",
     "output_type": "stream",
     "text": [
      "Количество уникальных пользователей: 7534\n"
     ]
    }
   ],
   "source": [
    "#посчитаем количество уникальных пользователей\n",
    "print(f'Количество уникальных пользователей:',df_2['device_id'].nunique())"
   ]
  },
  {
   "cell_type": "markdown",
   "id": "605f34ee",
   "metadata": {},
   "source": [
    "Количество уникальных пользователей (7534) больше, чем количество уникальных пользователей, которые заходили на главных экран. Проверим, что это за пользователи:"
   ]
  },
  {
   "cell_type": "code",
   "execution_count": 33,
   "id": "5c0b4650",
   "metadata": {},
   "outputs": [
    {
     "data": {
      "text/plain": [
       "54      74158328448226259\n",
       "86     111394506613435756\n",
       "160    214966247576341063\n",
       "196    261817378841141406\n",
       "248    332529825412858125\n",
       "Name: device_id, dtype: int64"
      ]
     },
     "execution_count": 33,
     "metadata": {},
     "output_type": "execute_result"
    }
   ],
   "source": [
    "#создадим список из уникальных событий для пользователя \n",
    "#выберем из списка пользователей, которые не заходили на главный экран\n",
    "event_list = df_2.groupby('device_id')['event_name'].unique().reset_index().rename(columns={'event_name': 'event_list'})\n",
    "strange_list = event_list[event_list['event_list'].apply(lambda x: 'MainScreenAppear' not in x)]['device_id']\n",
    "strange_list.head()"
   ]
  },
  {
   "cell_type": "code",
   "execution_count": 34,
   "id": "07e091fb",
   "metadata": {},
   "outputs": [
    {
     "data": {
      "text/plain": [
       "115"
      ]
     },
     "execution_count": 34,
     "metadata": {},
     "output_type": "execute_result"
    }
   ],
   "source": [
    "#посчитаем, сколько пользователей в списке\n",
    "strange_list.count()"
   ]
  },
  {
   "cell_type": "markdown",
   "id": "d554df76",
   "metadata": {},
   "source": [
    "Всего 115 уникальных пользователей не заходили на главный экран. Посмотрим, какие события они совершали."
   ]
  },
  {
   "cell_type": "code",
   "execution_count": 35,
   "id": "3e4f144a",
   "metadata": {},
   "outputs": [
    {
     "data": {
      "text/html": [
       "<div>\n",
       "<style scoped>\n",
       "    .dataframe tbody tr th:only-of-type {\n",
       "        vertical-align: middle;\n",
       "    }\n",
       "\n",
       "    .dataframe tbody tr th {\n",
       "        vertical-align: top;\n",
       "    }\n",
       "\n",
       "    .dataframe thead th {\n",
       "        text-align: right;\n",
       "    }\n",
       "</style>\n",
       "<table border=\"1\" class=\"dataframe\">\n",
       "  <thead>\n",
       "    <tr style=\"text-align: right;\">\n",
       "      <th></th>\n",
       "      <th>event_name</th>\n",
       "      <th>device_id</th>\n",
       "      <th>event_timestamp</th>\n",
       "      <th>group</th>\n",
       "      <th>date</th>\n",
       "      <th>time</th>\n",
       "      <th>day</th>\n",
       "    </tr>\n",
       "  </thead>\n",
       "  <tbody>\n",
       "    <tr>\n",
       "      <th>3221</th>\n",
       "      <td>PaymentScreenSuccessful</td>\n",
       "      <td>5322240575085479425</td>\n",
       "      <td>2019-08-01 01:55:25</td>\n",
       "      <td>246</td>\n",
       "      <td>2019-08-01</td>\n",
       "      <td>01:55:25</td>\n",
       "      <td>1</td>\n",
       "    </tr>\n",
       "    <tr>\n",
       "      <th>3222</th>\n",
       "      <td>CartScreenAppear</td>\n",
       "      <td>5322240575085479425</td>\n",
       "      <td>2019-08-01 01:55:25</td>\n",
       "      <td>246</td>\n",
       "      <td>2019-08-01</td>\n",
       "      <td>01:55:25</td>\n",
       "      <td>1</td>\n",
       "    </tr>\n",
       "    <tr>\n",
       "      <th>3255</th>\n",
       "      <td>OffersScreenAppear</td>\n",
       "      <td>3187166762535343300</td>\n",
       "      <td>2019-08-01 02:01:30</td>\n",
       "      <td>247</td>\n",
       "      <td>2019-08-01</td>\n",
       "      <td>02:01:30</td>\n",
       "      <td>1</td>\n",
       "    </tr>\n",
       "    <tr>\n",
       "      <th>3323</th>\n",
       "      <td>OffersScreenAppear</td>\n",
       "      <td>5322240575085479425</td>\n",
       "      <td>2019-08-01 02:15:50</td>\n",
       "      <td>246</td>\n",
       "      <td>2019-08-01</td>\n",
       "      <td>02:15:50</td>\n",
       "      <td>1</td>\n",
       "    </tr>\n",
       "    <tr>\n",
       "      <th>3332</th>\n",
       "      <td>OffersScreenAppear</td>\n",
       "      <td>5322240575085479425</td>\n",
       "      <td>2019-08-01 02:16:58</td>\n",
       "      <td>246</td>\n",
       "      <td>2019-08-01</td>\n",
       "      <td>02:16:58</td>\n",
       "      <td>1</td>\n",
       "    </tr>\n",
       "    <tr>\n",
       "      <th>3333</th>\n",
       "      <td>OffersScreenAppear</td>\n",
       "      <td>5322240575085479425</td>\n",
       "      <td>2019-08-01 02:17:04</td>\n",
       "      <td>246</td>\n",
       "      <td>2019-08-01</td>\n",
       "      <td>02:17:04</td>\n",
       "      <td>1</td>\n",
       "    </tr>\n",
       "    <tr>\n",
       "      <th>3368</th>\n",
       "      <td>PaymentScreenSuccessful</td>\n",
       "      <td>2485641541735752193</td>\n",
       "      <td>2019-08-01 02:22:20</td>\n",
       "      <td>247</td>\n",
       "      <td>2019-08-01</td>\n",
       "      <td>02:22:20</td>\n",
       "      <td>1</td>\n",
       "    </tr>\n",
       "    <tr>\n",
       "      <th>3369</th>\n",
       "      <td>CartScreenAppear</td>\n",
       "      <td>2485641541735752193</td>\n",
       "      <td>2019-08-01 02:22:21</td>\n",
       "      <td>247</td>\n",
       "      <td>2019-08-01</td>\n",
       "      <td>02:22:21</td>\n",
       "      <td>1</td>\n",
       "    </tr>\n",
       "    <tr>\n",
       "      <th>3373</th>\n",
       "      <td>OffersScreenAppear</td>\n",
       "      <td>6054246013759836289</td>\n",
       "      <td>2019-08-01 02:23:15</td>\n",
       "      <td>247</td>\n",
       "      <td>2019-08-01</td>\n",
       "      <td>02:23:15</td>\n",
       "      <td>1</td>\n",
       "    </tr>\n",
       "    <tr>\n",
       "      <th>3385</th>\n",
       "      <td>OffersScreenAppear</td>\n",
       "      <td>2485641541735752193</td>\n",
       "      <td>2019-08-01 02:24:39</td>\n",
       "      <td>247</td>\n",
       "      <td>2019-08-01</td>\n",
       "      <td>02:24:39</td>\n",
       "      <td>1</td>\n",
       "    </tr>\n",
       "  </tbody>\n",
       "</table>\n",
       "</div>"
      ],
      "text/plain": [
       "                   event_name            device_id     event_timestamp  group  \\\n",
       "3221  PaymentScreenSuccessful  5322240575085479425 2019-08-01 01:55:25    246   \n",
       "3222         CartScreenAppear  5322240575085479425 2019-08-01 01:55:25    246   \n",
       "3255       OffersScreenAppear  3187166762535343300 2019-08-01 02:01:30    247   \n",
       "3323       OffersScreenAppear  5322240575085479425 2019-08-01 02:15:50    246   \n",
       "3332       OffersScreenAppear  5322240575085479425 2019-08-01 02:16:58    246   \n",
       "3333       OffersScreenAppear  5322240575085479425 2019-08-01 02:17:04    246   \n",
       "3368  PaymentScreenSuccessful  2485641541735752193 2019-08-01 02:22:20    247   \n",
       "3369         CartScreenAppear  2485641541735752193 2019-08-01 02:22:21    247   \n",
       "3373       OffersScreenAppear  6054246013759836289 2019-08-01 02:23:15    247   \n",
       "3385       OffersScreenAppear  2485641541735752193 2019-08-01 02:24:39    247   \n",
       "\n",
       "            date      time  day  \n",
       "3221  2019-08-01  01:55:25    1  \n",
       "3222  2019-08-01  01:55:25    1  \n",
       "3255  2019-08-01  02:01:30    1  \n",
       "3323  2019-08-01  02:15:50    1  \n",
       "3332  2019-08-01  02:16:58    1  \n",
       "3333  2019-08-01  02:17:04    1  \n",
       "3368  2019-08-01  02:22:20    1  \n",
       "3369  2019-08-01  02:22:21    1  \n",
       "3373  2019-08-01  02:23:15    1  \n",
       "3385  2019-08-01  02:24:39    1  "
      ]
     },
     "metadata": {},
     "output_type": "display_data"
    }
   ],
   "source": [
    "display(df_2.query('device_id in @strange_list').head(10))"
   ]
  },
  {
   "cell_type": "code",
   "execution_count": 36,
   "id": "74196926",
   "metadata": {},
   "outputs": [
    {
     "data": {
      "text/plain": [
       "OffersScreenAppear         948\n",
       "CartScreenAppear           909\n",
       "PaymentScreenSuccessful    747\n",
       "Tutorial                     7\n",
       "Name: event_name, dtype: int64"
      ]
     },
     "metadata": {},
     "output_type": "display_data"
    }
   ],
   "source": [
    "#посмотрим, какие события совершали пользователи\n",
    "display(df_2.query('device_id in @strange_list')['event_name'].value_counts())"
   ]
  },
  {
   "cell_type": "code",
   "execution_count": 37,
   "id": "40465230",
   "metadata": {},
   "outputs": [
    {
     "data": {
      "text/plain": [
       "248    931\n",
       "247    874\n",
       "246    806\n",
       "Name: group, dtype: int64"
      ]
     },
     "metadata": {},
     "output_type": "display_data"
    }
   ],
   "source": [
    "#посмотрим, к каким группам относятся странные пользователи\n",
    "display(df_2.query('device_id in @strange_list')['group'].value_counts())"
   ]
  },
  {
   "cell_type": "markdown",
   "id": "fa68ad53",
   "metadata": {},
   "source": [
    "Эти пользователи совершали все типы событий, кроме захода на главный экран. Странные пользователи есть во всех группах, однако в группе 248 (экспериментальной) их больше."
   ]
  },
  {
   "cell_type": "markdown",
   "id": "e9021a5a",
   "metadata": {},
   "source": [
    "Посмотрим, в какие даты действовали пользователи:"
   ]
  },
  {
   "cell_type": "code",
   "execution_count": 38,
   "id": "5ad8c8e0",
   "metadata": {
    "scrolled": true
   },
   "outputs": [
    {
     "data": {
      "text/plain": [
       "2019-08-01    460\n",
       "2019-08-04    446\n",
       "2019-08-07    371\n",
       "2019-08-03    356\n",
       "2019-08-02    349\n",
       "2019-08-05    324\n",
       "2019-08-06    305\n",
       "Name: date, dtype: int64"
      ]
     },
     "metadata": {},
     "output_type": "display_data"
    }
   ],
   "source": [
    "#посмотрим, в какие даты действовали пользователи\n",
    "display(df_2.query('device_id in @strange_list')['date'].value_counts())"
   ]
  },
  {
   "cell_type": "markdown",
   "id": "0611a8d5",
   "metadata": {},
   "source": [
    "Можно было бы предположить, что для некоторых пользователей нет данных по просмотру главного экрана, поскольку они зашли на него еще 31 июля 2019 г., данные за которое мы обрезали. Однако такие пользователи довольно равномерно появляются каждый день наблюдений. \n",
    "\n",
    "***Это может быть вызвано двумя причинами:***\n",
    "\n",
    "1) Возможностью зайти на экран предложений, минуя главный экран (при наличии технической возможности). Допустим, многократным вызовом приложения, находящегося в режиме ожидания, при выборе продуктов для доставки. Пользователь не закрывает приложение, а переводит его в режим ожидания, и повторный вывоз приложения считывается как новое событие.\n",
    "\n",
    "2) Техническим сбоем при сборе или передаче данных, если при каждой вызове приложения открывается сначала главный экран, а затем уже какой-либо другой.\n",
    "\n",
    "Поскольку в данной работе мы не знаем технические особенности приложения, будем считать, что действует вариант 1."
   ]
  },
  {
   "cell_type": "markdown",
   "id": "a9da2308",
   "metadata": {},
   "source": [
    "**Посчитаем долю пользователей, которые хоть раз совершали событие:**"
   ]
  },
  {
   "cell_type": "code",
   "execution_count": 39,
   "id": "f8f48a1b",
   "metadata": {},
   "outputs": [
    {
     "data": {
      "text/html": [
       "<div>\n",
       "<style scoped>\n",
       "    .dataframe tbody tr th:only-of-type {\n",
       "        vertical-align: middle;\n",
       "    }\n",
       "\n",
       "    .dataframe tbody tr th {\n",
       "        vertical-align: top;\n",
       "    }\n",
       "\n",
       "    .dataframe thead th {\n",
       "        text-align: right;\n",
       "    }\n",
       "</style>\n",
       "<table border=\"1\" class=\"dataframe\">\n",
       "  <thead>\n",
       "    <tr style=\"text-align: right;\">\n",
       "      <th></th>\n",
       "      <th>event_name</th>\n",
       "      <th>unique_users</th>\n",
       "      <th>event_count</th>\n",
       "      <th>all_users_ratio</th>\n",
       "    </tr>\n",
       "  </thead>\n",
       "  <tbody>\n",
       "    <tr>\n",
       "      <th>0</th>\n",
       "      <td>MainScreenAppear</td>\n",
       "      <td>7419</td>\n",
       "      <td>117328</td>\n",
       "      <td>98.47</td>\n",
       "    </tr>\n",
       "    <tr>\n",
       "      <th>1</th>\n",
       "      <td>OffersScreenAppear</td>\n",
       "      <td>4593</td>\n",
       "      <td>46333</td>\n",
       "      <td>60.96</td>\n",
       "    </tr>\n",
       "    <tr>\n",
       "      <th>2</th>\n",
       "      <td>CartScreenAppear</td>\n",
       "      <td>3734</td>\n",
       "      <td>42303</td>\n",
       "      <td>49.56</td>\n",
       "    </tr>\n",
       "    <tr>\n",
       "      <th>3</th>\n",
       "      <td>PaymentScreenSuccessful</td>\n",
       "      <td>3539</td>\n",
       "      <td>33918</td>\n",
       "      <td>46.97</td>\n",
       "    </tr>\n",
       "    <tr>\n",
       "      <th>4</th>\n",
       "      <td>Tutorial</td>\n",
       "      <td>840</td>\n",
       "      <td>1005</td>\n",
       "      <td>11.15</td>\n",
       "    </tr>\n",
       "  </tbody>\n",
       "</table>\n",
       "</div>"
      ],
      "text/plain": [
       "                event_name  unique_users  event_count  all_users_ratio\n",
       "0         MainScreenAppear          7419       117328            98.47\n",
       "1       OffersScreenAppear          4593        46333            60.96\n",
       "2         CartScreenAppear          3734        42303            49.56\n",
       "3  PaymentScreenSuccessful          3539        33918            46.97\n",
       "4                 Tutorial           840         1005            11.15"
      ]
     },
     "metadata": {},
     "output_type": "display_data"
    }
   ],
   "source": [
    "#разделим количество пользователей, которые совершали каждое событие на общее количество уникальных пользователей\n",
    "events['all_users_ratio'] = round(events['unique_users'] / df_2['device_id'].nunique() * 100, 2)\n",
    "display(events)"
   ]
  },
  {
   "cell_type": "markdown",
   "id": "22bd58ea",
   "metadata": {},
   "source": [
    "События происходят в следующем порядке: "
   ]
  },
  {
   "cell_type": "markdown",
   "id": "a3ed3c5b",
   "metadata": {},
   "source": [
    "1. `MainScreenAppear`\t- Главный экран\n",
    "2. `OffersScreenAppear`\t- Экран предложений\n",
    "3.\t`CartScreenAppear`\t- Экран корзины\n",
    "4.\t`PaymentScreenSuccessful` - Оплата прошла успешно"
   ]
  },
  {
   "cell_type": "markdown",
   "id": "95c4facf",
   "metadata": {},
   "source": [
    "Событие `Tutorial` (Руководство) не входит в эту цепочку. Пользователь может прочитать руководство в любой возможный момент или не читать его вовсе. Это событие мы не будем учитывать при расчете воронки."
   ]
  },
  {
   "cell_type": "code",
   "execution_count": 40,
   "id": "84354229",
   "metadata": {},
   "outputs": [
    {
     "data": {
      "text/html": [
       "<div>\n",
       "<style scoped>\n",
       "    .dataframe tbody tr th:only-of-type {\n",
       "        vertical-align: middle;\n",
       "    }\n",
       "\n",
       "    .dataframe tbody tr th {\n",
       "        vertical-align: top;\n",
       "    }\n",
       "\n",
       "    .dataframe thead th {\n",
       "        text-align: right;\n",
       "    }\n",
       "</style>\n",
       "<table border=\"1\" class=\"dataframe\">\n",
       "  <thead>\n",
       "    <tr style=\"text-align: right;\">\n",
       "      <th></th>\n",
       "      <th>event_name</th>\n",
       "      <th>unique_users</th>\n",
       "      <th>event_count</th>\n",
       "      <th>all_users_ratio</th>\n",
       "    </tr>\n",
       "  </thead>\n",
       "  <tbody>\n",
       "    <tr>\n",
       "      <th>0</th>\n",
       "      <td>MainScreenAppear</td>\n",
       "      <td>7419</td>\n",
       "      <td>117328</td>\n",
       "      <td>98.47</td>\n",
       "    </tr>\n",
       "    <tr>\n",
       "      <th>1</th>\n",
       "      <td>OffersScreenAppear</td>\n",
       "      <td>4593</td>\n",
       "      <td>46333</td>\n",
       "      <td>60.96</td>\n",
       "    </tr>\n",
       "    <tr>\n",
       "      <th>2</th>\n",
       "      <td>CartScreenAppear</td>\n",
       "      <td>3734</td>\n",
       "      <td>42303</td>\n",
       "      <td>49.56</td>\n",
       "    </tr>\n",
       "    <tr>\n",
       "      <th>3</th>\n",
       "      <td>PaymentScreenSuccessful</td>\n",
       "      <td>3539</td>\n",
       "      <td>33918</td>\n",
       "      <td>46.97</td>\n",
       "    </tr>\n",
       "  </tbody>\n",
       "</table>\n",
       "</div>"
      ],
      "text/plain": [
       "                event_name  unique_users  event_count  all_users_ratio\n",
       "0         MainScreenAppear          7419       117328            98.47\n",
       "1       OffersScreenAppear          4593        46333            60.96\n",
       "2         CartScreenAppear          3734        42303            49.56\n",
       "3  PaymentScreenSuccessful          3539        33918            46.97"
      ]
     },
     "metadata": {},
     "output_type": "display_data"
    }
   ],
   "source": [
    "#удалим событие, которое не входит в воронку событий пользователя\n",
    "events = events.drop(index=4)\n",
    "display(events)"
   ]
  },
  {
   "cell_type": "markdown",
   "id": "56911390",
   "metadata": {},
   "source": [
    "**По воронке событий посчитаем, какая доля пользователей проходит на следующий шаг воронки (от числа пользователей на предыдущем).** \n",
    "\n",
    "То есть для последовательности событий A → B → C посчитаем отношение числа пользователей с событием B к количеству пользователей с событием A, а также отношение числа пользователей с событием C к количеству пользователей с событием B."
   ]
  },
  {
   "cell_type": "code",
   "execution_count": 41,
   "id": "62e7c8cb",
   "metadata": {},
   "outputs": [
    {
     "name": "stdout",
     "output_type": "stream",
     "text": [
      "[7419, 7419, 4593, 3734]\n"
     ]
    }
   ],
   "source": [
    "#для расчета создадим лист с количеством уникальных пользователей для каждого события\n",
    "#продублируем в листе количество пользователей по первому событию \n",
    "#удалим количество пользователей по последнему событию\n",
    "users_list = list(events['unique_users'].unique())\n",
    "users_list.insert(0,users_list[0])\n",
    "users_list.pop(-1)\n",
    "print(users_list)"
   ]
  },
  {
   "cell_type": "code",
   "execution_count": 42,
   "id": "cc982d1f",
   "metadata": {},
   "outputs": [
    {
     "data": {
      "text/html": [
       "<div>\n",
       "<style scoped>\n",
       "    .dataframe tbody tr th:only-of-type {\n",
       "        vertical-align: middle;\n",
       "    }\n",
       "\n",
       "    .dataframe tbody tr th {\n",
       "        vertical-align: top;\n",
       "    }\n",
       "\n",
       "    .dataframe thead th {\n",
       "        text-align: right;\n",
       "    }\n",
       "</style>\n",
       "<table border=\"1\" class=\"dataframe\">\n",
       "  <thead>\n",
       "    <tr style=\"text-align: right;\">\n",
       "      <th></th>\n",
       "      <th>event_name</th>\n",
       "      <th>unique_users</th>\n",
       "      <th>event_count</th>\n",
       "      <th>all_users_ratio</th>\n",
       "      <th>user_step_ratio</th>\n",
       "    </tr>\n",
       "  </thead>\n",
       "  <tbody>\n",
       "    <tr>\n",
       "      <th>0</th>\n",
       "      <td>MainScreenAppear</td>\n",
       "      <td>7419</td>\n",
       "      <td>117328</td>\n",
       "      <td>98.47</td>\n",
       "      <td>100.00</td>\n",
       "    </tr>\n",
       "    <tr>\n",
       "      <th>1</th>\n",
       "      <td>OffersScreenAppear</td>\n",
       "      <td>4593</td>\n",
       "      <td>46333</td>\n",
       "      <td>60.96</td>\n",
       "      <td>61.91</td>\n",
       "    </tr>\n",
       "    <tr>\n",
       "      <th>2</th>\n",
       "      <td>CartScreenAppear</td>\n",
       "      <td>3734</td>\n",
       "      <td>42303</td>\n",
       "      <td>49.56</td>\n",
       "      <td>81.30</td>\n",
       "    </tr>\n",
       "    <tr>\n",
       "      <th>3</th>\n",
       "      <td>PaymentScreenSuccessful</td>\n",
       "      <td>3539</td>\n",
       "      <td>33918</td>\n",
       "      <td>46.97</td>\n",
       "      <td>94.78</td>\n",
       "    </tr>\n",
       "  </tbody>\n",
       "</table>\n",
       "</div>"
      ],
      "text/plain": [
       "                event_name  unique_users  event_count  all_users_ratio  \\\n",
       "0         MainScreenAppear          7419       117328            98.47   \n",
       "1       OffersScreenAppear          4593        46333            60.96   \n",
       "2         CartScreenAppear          3734        42303            49.56   \n",
       "3  PaymentScreenSuccessful          3539        33918            46.97   \n",
       "\n",
       "   user_step_ratio  \n",
       "0           100.00  \n",
       "1            61.91  \n",
       "2            81.30  \n",
       "3            94.78  "
      ]
     },
     "metadata": {},
     "output_type": "display_data"
    }
   ],
   "source": [
    "#рассчитаем долю пользователей, которые совершили следующее событие, от количества тех, кто совершил предыдущее\n",
    "events['user_step_ratio'] = round(events['unique_users'].div(users_list, axis=0)*100, 2)\n",
    "display(events)"
   ]
  },
  {
   "cell_type": "markdown",
   "id": "86d7571b",
   "metadata": {},
   "source": [
    "**Визуализируем данные в виде воронки событий:**"
   ]
  },
  {
   "cell_type": "code",
   "execution_count": 43,
   "id": "eb4018e7",
   "metadata": {},
   "outputs": [
    {
     "data": {
      "image/png": "[encoded data removed]"
     },
     "metadata": {},
     "output_type": "display_data"
    }
   ],
   "source": [
    "fig = go.Figure(\n",
    "    go.Funnel(\n",
    "        y=[\n",
    "            'Главный экран',\n",
    "            'Открыли экран предложений',\n",
    "            'Корзина',\n",
    "            'Оплатили',\n",
    "        ],\n",
    "        x=events.unique_users.unique(),\n",
    "    )\n",
    ")\n",
    "\n",
    "fig.update_layout(\n",
    "    title=\"Воронка событий пользователей приложения\",\n",
    ")\n",
    "\n",
    "fig.show(\"png\") "
   ]
  },
  {
   "cell_type": "markdown",
   "id": "3e2c822d",
   "metadata": {},
   "source": [
    "**Посмотрим, каком шаге мы теряем больше всего пользователей**\n"
   ]
  },
  {
   "cell_type": "markdown",
   "id": "e795ce65",
   "metadata": {},
   "source": [
    "Больше всего пользователей (почти 40%) теряется на шаге 2 \"Открыт экран предложений\". Это большая цифра. Значит, 40% пользователей, которые заходят на главную страницу, не проходят дальше. \n",
    "Это может быть связано как с техническими проблемами (приложение вылетает), так и неудобным интерфейсом (пользователи не могут разобраться, как сделать заказ, и не проходят дальше главного экрана)."
   ]
  },
  {
   "cell_type": "markdown",
   "id": "41fce502",
   "metadata": {},
   "source": [
    "**Посмотрим, какая доля пользователей доходит от первого события до оплаты**"
   ]
  },
  {
   "cell_type": "markdown",
   "id": "01390cc2",
   "metadata": {},
   "source": [
    "47,7% пользователей, которые зашли на главный экран, совершили успешную оплату заказа. Это довольно хороший показатель. Значит, половина пользователей, которые зашли в приложение, сделали заказ."
   ]
  },
  {
   "cell_type": "markdown",
   "id": "3f4fe4b6",
   "metadata": {},
   "source": [
    "## 5. Изучение результатов A/A/B-эксперимента"
   ]
  },
  {
   "cell_type": "markdown",
   "id": "d504c38e",
   "metadata": {},
   "source": [
    "Дизайнеры заказчика предложили поменять шрифты во всём приложении, однако менеджеры заказчика опасались, что пользователям будет непривычно. По итогу договорились принять решение по результатам A/A/B-теста. Пользователей разбили на 3 группы: 2 контрольные со старыми шрифтами (246 и 247) и одну экспериментальную (248) — с новыми. Выясним, какой шрифт лучше по результатам A/A/B-эксперимента. \n",
    "\n",
    "Создание двух групп A вместо одной имеет определённые преимущества. Если две контрольные группы окажутся равны, мы можем быть уверены в точности проведенного тестирования. Если же между значениями A и A будут существенные различия, это поможет обнаружить факторы, которые привели к искажению результатов. Сравнение контрольных групп также помогает понять, сколько времени и данных потребуется для дальнейших тестов."
   ]
  },
  {
   "cell_type": "markdown",
   "id": "e8939e21",
   "metadata": {},
   "source": [
    "**Посмотрим, сколько пользователей в каждой экспериментальной группе**"
   ]
  },
  {
   "cell_type": "code",
   "execution_count": 44,
   "id": "97346c26",
   "metadata": {},
   "outputs": [
    {
     "data": {
      "text/html": [
       "<div>\n",
       "<style scoped>\n",
       "    .dataframe tbody tr th:only-of-type {\n",
       "        vertical-align: middle;\n",
       "    }\n",
       "\n",
       "    .dataframe tbody tr th {\n",
       "        vertical-align: top;\n",
       "    }\n",
       "\n",
       "    .dataframe thead tr th {\n",
       "        text-align: left;\n",
       "    }\n",
       "</style>\n",
       "<table border=\"1\" class=\"dataframe\">\n",
       "  <thead>\n",
       "    <tr>\n",
       "      <th></th>\n",
       "      <th>group</th>\n",
       "      <th colspan=\"2\" halign=\"left\">device_id</th>\n",
       "    </tr>\n",
       "    <tr>\n",
       "      <th></th>\n",
       "      <th></th>\n",
       "      <th>nunique</th>\n",
       "      <th>count</th>\n",
       "    </tr>\n",
       "  </thead>\n",
       "  <tbody>\n",
       "    <tr>\n",
       "      <th>0</th>\n",
       "      <td>246</td>\n",
       "      <td>2484</td>\n",
       "      <td>79302</td>\n",
       "    </tr>\n",
       "    <tr>\n",
       "      <th>1</th>\n",
       "      <td>247</td>\n",
       "      <td>2513</td>\n",
       "      <td>77022</td>\n",
       "    </tr>\n",
       "    <tr>\n",
       "      <th>2</th>\n",
       "      <td>248</td>\n",
       "      <td>2537</td>\n",
       "      <td>84563</td>\n",
       "    </tr>\n",
       "  </tbody>\n",
       "</table>\n",
       "</div>"
      ],
      "text/plain": [
       "  group device_id       \n",
       "          nunique  count\n",
       "0   246      2484  79302\n",
       "1   247      2513  77022\n",
       "2   248      2537  84563"
      ]
     },
     "execution_count": 44,
     "metadata": {},
     "output_type": "execute_result"
    }
   ],
   "source": [
    "#сгруппируем данные по группам и вычислим количество уникальных пользователей и количество событий для каждой группы\n",
    "df_2.groupby('group').agg({'device_id':['nunique', 'count']}).reset_index()"
   ]
  },
  {
   "cell_type": "markdown",
   "id": "86792fd5",
   "metadata": {},
   "source": [
    "**Проверим, находят ли статистические критерии разницу между выборками 246 и 247.**"
   ]
  },
  {
   "cell_type": "code",
   "execution_count": 45,
   "id": "fdbd13dd",
   "metadata": {},
   "outputs": [
    {
     "name": "stdout",
     "output_type": "stream",
     "text": [
      "Разница между количеством пользователей в группах: 1.17 %\n"
     ]
    }
   ],
   "source": [
    "# проверим разницу между количеством пользователей в разных группах\n",
    "r = round((2513 / 2484 - 1)*100, 2)\n",
    "print(f'Разница между количеством пользователей в группах: {r} %')"
   ]
  },
  {
   "cell_type": "markdown",
   "id": "1c791180",
   "metadata": {},
   "source": [
    "В каждой из групп схожее количество пользователей: в группе 246 2484 пользователей, в группе 247 2513 пользователей, в группе 248 2537 пользователей. \n",
    "\n",
    "Группы 246 и 247 - это 2 контрольные группы для А/А-эксперимента, чтобы проверить корректность всех механизмов и расчётов. \n",
    "\n",
    "Разница между количеством уникальных пользователей в контрольных группах 1,2%. Это приемлемое значение при проведении тестирования, однако лучше, чтобы разница между группами была не больше 1%. "
   ]
  },
  {
   "cell_type": "markdown",
   "id": "4a4e59f7",
   "metadata": {},
   "source": [
    "**Посчитаем число и долю пользователей, совершивших каждое событие в каждой из контрольных групп. Проверим, будет ли отличие между группами статистически достоверным.**"
   ]
  },
  {
   "cell_type": "markdown",
   "id": "cece5119",
   "metadata": {},
   "source": [
    "Посчитаем число пользователей, совершивших каждое событие в каждой из контрольных групп. Посчитайте долю пользователей, совершивших это событие. "
   ]
  },
  {
   "cell_type": "code",
   "execution_count": 46,
   "id": "cd825382",
   "metadata": {
    "scrolled": false
   },
   "outputs": [
    {
     "name": "stdout",
     "output_type": "stream",
     "text": [
      "246\n"
     ]
    },
    {
     "data": {
      "text/html": [
       "<div>\n",
       "<style scoped>\n",
       "    .dataframe tbody tr th:only-of-type {\n",
       "        vertical-align: middle;\n",
       "    }\n",
       "\n",
       "    .dataframe tbody tr th {\n",
       "        vertical-align: top;\n",
       "    }\n",
       "\n",
       "    .dataframe thead th {\n",
       "        text-align: right;\n",
       "    }\n",
       "</style>\n",
       "<table border=\"1\" class=\"dataframe\">\n",
       "  <thead>\n",
       "    <tr style=\"text-align: right;\">\n",
       "      <th></th>\n",
       "      <th>event_name</th>\n",
       "      <th>unique_users</th>\n",
       "      <th>event_count</th>\n",
       "      <th>all_users_ratio</th>\n",
       "      <th>user_step_ratio</th>\n",
       "    </tr>\n",
       "  </thead>\n",
       "  <tbody>\n",
       "    <tr>\n",
       "      <th>0</th>\n",
       "      <td>MainScreenAppear</td>\n",
       "      <td>2450</td>\n",
       "      <td>37676</td>\n",
       "      <td>98.63</td>\n",
       "      <td>100.00</td>\n",
       "    </tr>\n",
       "    <tr>\n",
       "      <th>1</th>\n",
       "      <td>OffersScreenAppear</td>\n",
       "      <td>1542</td>\n",
       "      <td>14767</td>\n",
       "      <td>62.08</td>\n",
       "      <td>62.94</td>\n",
       "    </tr>\n",
       "    <tr>\n",
       "      <th>2</th>\n",
       "      <td>CartScreenAppear</td>\n",
       "      <td>1266</td>\n",
       "      <td>14690</td>\n",
       "      <td>50.97</td>\n",
       "      <td>82.10</td>\n",
       "    </tr>\n",
       "    <tr>\n",
       "      <th>3</th>\n",
       "      <td>PaymentScreenSuccessful</td>\n",
       "      <td>1200</td>\n",
       "      <td>11852</td>\n",
       "      <td>48.31</td>\n",
       "      <td>94.79</td>\n",
       "    </tr>\n",
       "    <tr>\n",
       "      <th>4</th>\n",
       "      <td>Tutorial</td>\n",
       "      <td>278</td>\n",
       "      <td>317</td>\n",
       "      <td>11.19</td>\n",
       "      <td>23.17</td>\n",
       "    </tr>\n",
       "  </tbody>\n",
       "</table>\n",
       "</div>"
      ],
      "text/plain": [
       "                event_name  unique_users  event_count  all_users_ratio  \\\n",
       "0         MainScreenAppear          2450        37676            98.63   \n",
       "1       OffersScreenAppear          1542        14767            62.08   \n",
       "2         CartScreenAppear          1266        14690            50.97   \n",
       "3  PaymentScreenSuccessful          1200        11852            48.31   \n",
       "4                 Tutorial           278          317            11.19   \n",
       "\n",
       "   user_step_ratio  \n",
       "0           100.00  \n",
       "1            62.94  \n",
       "2            82.10  \n",
       "3            94.79  \n",
       "4            23.17  "
      ]
     },
     "metadata": {},
     "output_type": "display_data"
    },
    {
     "name": "stdout",
     "output_type": "stream",
     "text": [
      "247\n"
     ]
    },
    {
     "data": {
      "text/html": [
       "<div>\n",
       "<style scoped>\n",
       "    .dataframe tbody tr th:only-of-type {\n",
       "        vertical-align: middle;\n",
       "    }\n",
       "\n",
       "    .dataframe tbody tr th {\n",
       "        vertical-align: top;\n",
       "    }\n",
       "\n",
       "    .dataframe thead th {\n",
       "        text-align: right;\n",
       "    }\n",
       "</style>\n",
       "<table border=\"1\" class=\"dataframe\">\n",
       "  <thead>\n",
       "    <tr style=\"text-align: right;\">\n",
       "      <th></th>\n",
       "      <th>event_name</th>\n",
       "      <th>unique_users</th>\n",
       "      <th>event_count</th>\n",
       "      <th>all_users_ratio</th>\n",
       "      <th>user_step_ratio</th>\n",
       "    </tr>\n",
       "  </thead>\n",
       "  <tbody>\n",
       "    <tr>\n",
       "      <th>0</th>\n",
       "      <td>MainScreenAppear</td>\n",
       "      <td>2476</td>\n",
       "      <td>39090</td>\n",
       "      <td>98.53</td>\n",
       "      <td>100.00</td>\n",
       "    </tr>\n",
       "    <tr>\n",
       "      <th>1</th>\n",
       "      <td>OffersScreenAppear</td>\n",
       "      <td>1520</td>\n",
       "      <td>15179</td>\n",
       "      <td>60.49</td>\n",
       "      <td>61.39</td>\n",
       "    </tr>\n",
       "    <tr>\n",
       "      <th>2</th>\n",
       "      <td>CartScreenAppear</td>\n",
       "      <td>1238</td>\n",
       "      <td>12434</td>\n",
       "      <td>49.26</td>\n",
       "      <td>81.45</td>\n",
       "    </tr>\n",
       "    <tr>\n",
       "      <th>3</th>\n",
       "      <td>PaymentScreenSuccessful</td>\n",
       "      <td>1158</td>\n",
       "      <td>9981</td>\n",
       "      <td>46.08</td>\n",
       "      <td>93.54</td>\n",
       "    </tr>\n",
       "    <tr>\n",
       "      <th>4</th>\n",
       "      <td>Tutorial</td>\n",
       "      <td>283</td>\n",
       "      <td>338</td>\n",
       "      <td>11.26</td>\n",
       "      <td>24.44</td>\n",
       "    </tr>\n",
       "  </tbody>\n",
       "</table>\n",
       "</div>"
      ],
      "text/plain": [
       "                event_name  unique_users  event_count  all_users_ratio  \\\n",
       "0         MainScreenAppear          2476        39090            98.53   \n",
       "1       OffersScreenAppear          1520        15179            60.49   \n",
       "2         CartScreenAppear          1238        12434            49.26   \n",
       "3  PaymentScreenSuccessful          1158         9981            46.08   \n",
       "4                 Tutorial           283          338            11.26   \n",
       "\n",
       "   user_step_ratio  \n",
       "0           100.00  \n",
       "1            61.39  \n",
       "2            81.45  \n",
       "3            93.54  \n",
       "4            24.44  "
      ]
     },
     "metadata": {},
     "output_type": "display_data"
    },
    {
     "name": "stdout",
     "output_type": "stream",
     "text": [
      "248\n"
     ]
    },
    {
     "data": {
      "text/html": [
       "<div>\n",
       "<style scoped>\n",
       "    .dataframe tbody tr th:only-of-type {\n",
       "        vertical-align: middle;\n",
       "    }\n",
       "\n",
       "    .dataframe tbody tr th {\n",
       "        vertical-align: top;\n",
       "    }\n",
       "\n",
       "    .dataframe thead th {\n",
       "        text-align: right;\n",
       "    }\n",
       "</style>\n",
       "<table border=\"1\" class=\"dataframe\">\n",
       "  <thead>\n",
       "    <tr style=\"text-align: right;\">\n",
       "      <th></th>\n",
       "      <th>event_name</th>\n",
       "      <th>unique_users</th>\n",
       "      <th>event_count</th>\n",
       "      <th>all_users_ratio</th>\n",
       "      <th>user_step_ratio</th>\n",
       "    </tr>\n",
       "  </thead>\n",
       "  <tbody>\n",
       "    <tr>\n",
       "      <th>0</th>\n",
       "      <td>MainScreenAppear</td>\n",
       "      <td>2493</td>\n",
       "      <td>40562</td>\n",
       "      <td>98.27</td>\n",
       "      <td>100.00</td>\n",
       "    </tr>\n",
       "    <tr>\n",
       "      <th>1</th>\n",
       "      <td>OffersScreenAppear</td>\n",
       "      <td>1531</td>\n",
       "      <td>16387</td>\n",
       "      <td>60.35</td>\n",
       "      <td>61.41</td>\n",
       "    </tr>\n",
       "    <tr>\n",
       "      <th>2</th>\n",
       "      <td>CartScreenAppear</td>\n",
       "      <td>1230</td>\n",
       "      <td>15179</td>\n",
       "      <td>48.48</td>\n",
       "      <td>80.34</td>\n",
       "    </tr>\n",
       "    <tr>\n",
       "      <th>3</th>\n",
       "      <td>PaymentScreenSuccessful</td>\n",
       "      <td>1181</td>\n",
       "      <td>12085</td>\n",
       "      <td>46.55</td>\n",
       "      <td>96.02</td>\n",
       "    </tr>\n",
       "    <tr>\n",
       "      <th>4</th>\n",
       "      <td>Tutorial</td>\n",
       "      <td>279</td>\n",
       "      <td>350</td>\n",
       "      <td>11.00</td>\n",
       "      <td>23.62</td>\n",
       "    </tr>\n",
       "  </tbody>\n",
       "</table>\n",
       "</div>"
      ],
      "text/plain": [
       "                event_name  unique_users  event_count  all_users_ratio  \\\n",
       "0         MainScreenAppear          2493        40562            98.27   \n",
       "1       OffersScreenAppear          1531        16387            60.35   \n",
       "2         CartScreenAppear          1230        15179            48.48   \n",
       "3  PaymentScreenSuccessful          1181        12085            46.55   \n",
       "4                 Tutorial           279          350            11.00   \n",
       "\n",
       "   user_step_ratio  \n",
       "0           100.00  \n",
       "1            61.41  \n",
       "2            80.34  \n",
       "3            96.02  \n",
       "4            23.62  "
      ]
     },
     "metadata": {},
     "output_type": "display_data"
    }
   ],
   "source": [
    "#создадим для каждой группы сводную таблицу с количеством уникальных пользователей и общим количеством событий\n",
    "#посчитаем долю пользователей, которые совершили событие от общего числа уникальных пользователей\n",
    "#посчитаем долю пользователей, которые совершили событие от тех, кто совершил предыдущее событие\n",
    "\n",
    "events = {}\n",
    "for i in df_2['group'].unique():\n",
    "    events[i] = df_2[df_2['group'] == i].pivot_table(\n",
    "    index=['event_name'],\n",
    "    values = 'device_id', aggfunc = ['nunique','count']\n",
    ").reset_index()\n",
    "    events[i].columns = ['event_name', 'unique_users', 'event_count']\n",
    "    events[i] = events[i].sort_values(by='unique_users', ascending=False).reset_index(drop=True)\n",
    "    events[i]['all_users_ratio'] = round(events[i]['unique_users'] / df_2[df_2['group'] == i]['device_id'].nunique() * 100, 2)\n",
    "    users_list = list(events[i].unique_users.unique())\n",
    "    users_list.insert(0,users_list[0])\n",
    "    users_list.pop(-1)\n",
    "    events[i]['user_step_ratio'] = round(events[i]['unique_users'].div(users_list, axis=0)*100, 2)\n",
    "\n",
    "    print(i)\n",
    "    display(events[i])"
   ]
  },
  {
   "cell_type": "markdown",
   "id": "a2adf0e8",
   "metadata": {},
   "source": [
    "Проверим, будет ли отличие между группами статистически достоверным. Для удобства обернем проверку в отдельную функцию."
   ]
  },
  {
   "cell_type": "code",
   "execution_count": 47,
   "id": "759916d4",
   "metadata": {},
   "outputs": [
    {
     "data": {
      "text/plain": [
       "[2484, 2513, 2537]"
      ]
     },
     "metadata": {},
     "output_type": "display_data"
    },
    {
     "data": {
      "text/plain": [
       "[2450, 2476, 2493]"
      ]
     },
     "metadata": {},
     "output_type": "display_data"
    },
    {
     "data": {
      "text/plain": [
       "[1542, 1520, 1531]"
      ]
     },
     "metadata": {},
     "output_type": "display_data"
    },
    {
     "data": {
      "text/plain": [
       "[1266, 1238, 1230]"
      ]
     },
     "metadata": {},
     "output_type": "display_data"
    },
    {
     "data": {
      "text/plain": [
       "[1200, 1158, 1181]"
      ]
     },
     "metadata": {},
     "output_type": "display_data"
    }
   ],
   "source": [
    "#создадим списки с количеством уникальных пользователей, совершивших каждое событие\n",
    "\n",
    "UniqueUsers = []\n",
    "MainScreenAppear = []\n",
    "OffersScreenAppear = []\n",
    "CartScreenAppear = []\n",
    "PaymentScreenSuccessful = []\n",
    "\n",
    "for i in df_2['group'].unique():\n",
    "    UniqueUsers.append(df_2[df_2['group'] == i]['device_id'].nunique())\n",
    "    MainScreenAppear.append(events[i].loc[0, 'unique_users'])\n",
    "    OffersScreenAppear.append(events[i].loc[1,'unique_users'])\n",
    "    CartScreenAppear.append(events[i].loc[2,'unique_users'])\n",
    "    PaymentScreenSuccessful.append(events[i].loc[3,'unique_users'])\n",
    "\n",
    "display(UniqueUsers)\n",
    "display(MainScreenAppear)\n",
    "display(OffersScreenAppear)\n",
    "display(CartScreenAppear)\n",
    "display(PaymentScreenSuccessful)"
   ]
  },
  {
   "cell_type": "code",
   "execution_count": 48,
   "id": "c818fd09",
   "metadata": {},
   "outputs": [],
   "source": [
    "#создадим список с перечнем групп\n",
    "groups = list(df_2['group'].unique())"
   ]
  },
  {
   "cell_type": "code",
   "execution_count": 49,
   "id": "716c8de9",
   "metadata": {},
   "outputs": [],
   "source": [
    "#создадим функцию для статического сравнения между группами долей пользователей по каждому событию\n",
    "\n",
    "def comp_group(A, B, alpha):  \n",
    "\n",
    "    steps = [MainScreenAppear, \n",
    "         OffersScreenAppear, \n",
    "         CartScreenAppear, \n",
    "         PaymentScreenSuccessful]\n",
    "\n",
    "    steps_name = ['Главный экран', \n",
    "         'Экран предложений', \n",
    "         'Экран корзины', \n",
    "         'Оплата прошла успешно']\n",
    "   \n",
    "    print(\"Отличие между группами {} и {}\".format(A, B))\n",
    "    \n",
    "    for item in steps: \n",
    "        users_by_event = np.array([item[groups.index(A)], item[groups.index(B)]]) \n",
    "        all_users = np.array([UniqueUsers[groups.index(A)], UniqueUsers[groups.index(B)]])\n",
    "\n",
    "        p1 = users_by_event[0]/all_users[0]\n",
    "# пропорция успехов во второй группе: \n",
    "        p2 = users_by_event[1]/all_users[1]\n",
    "# пропорция успехов в комбинированном датасете:\n",
    "        p_combined = (users_by_event[0] + users_by_event[1]) / (all_users[0] + all_users[1])\n",
    "#разница пропорций в датасетах \n",
    "        difference = p1 - p2\n",
    "#считаем статистику в ст.отклонениях стандартного нормального распределения\n",
    "        z_value = difference / mth.sqrt(p_combined * (1 - p_combined) * (1/all_users[0] + 1/all_users[1]))\n",
    "#задаем стандартное нормальное распределение (среднее 0, ст.отклонение 1) \n",
    "        distr = st.norm(0, 1)\n",
    "        p_value = (1 - distr.cdf(abs(z_value))) * 2\n",
    "    \n",
    "        print(f'Шаг', steps_name[steps.index(item)])\n",
    "        print(\"p-value: {0:.3f}\".format(p_value))\n",
    "         \n",
    "        if (p_value < alpha):\n",
    "            print(\"Отвергаем нулевую гипотезу: между долями есть значимая разница\")\n",
    "        else:\n",
    "            print(\"Не получилось отвергнуть нулевую гипотезу, нет оснований считать доли разными\")\n",
    "        print(\"\")\n",
    "   "
   ]
  },
  {
   "cell_type": "markdown",
   "id": "17806a58",
   "metadata": {},
   "source": [
    "Проверим, будет ли отличие между контрольными группами статистически достоверным:"
   ]
  },
  {
   "cell_type": "markdown",
   "id": "7e03fb02",
   "metadata": {},
   "source": [
    "**Гипотезы:**\n",
    "- Нулевая гипотеза: статистически значимых различий между долями групп 246 (контрольная группа) и 247 (контрольная группа) нет.\n",
    "- Альтернативная гипотеза: между долями групп 246 (контрольная группа) и 247 (контрольная группа) есть значимая разница.\n",
    "\n",
    "В качестве уровня значимости используем 0.05. Уровень точности в 5% будет достаточен для нас при оценке результатов А/A-теста, чтобы не отвергнуть правильную гипотезу."
   ]
  },
  {
   "cell_type": "code",
   "execution_count": 50,
   "id": "c4dcf61d",
   "metadata": {},
   "outputs": [
    {
     "name": "stdout",
     "output_type": "stream",
     "text": [
      "Отличие между группами 246 и 247\n",
      "Шаг Главный экран\n",
      "p-value: 0.757\n",
      "Не получилось отвергнуть нулевую гипотезу, нет оснований считать доли разными\n",
      "\n",
      "Шаг Экран предложений\n",
      "p-value: 0.248\n",
      "Не получилось отвергнуть нулевую гипотезу, нет оснований считать доли разными\n",
      "\n",
      "Шаг Экран корзины\n",
      "p-value: 0.229\n",
      "Не получилось отвергнуть нулевую гипотезу, нет оснований считать доли разными\n",
      "\n",
      "Шаг Оплата прошла успешно\n",
      "p-value: 0.115\n",
      "Не получилось отвергнуть нулевую гипотезу, нет оснований считать доли разными\n",
      "\n"
     ]
    }
   ],
   "source": [
    "#сравним события групп 246 и 247 при помощи функции\n",
    "alpha = 0.05 # критический уровень статистической значимости\n",
    "comp_group(246, 247, alpha)"
   ]
  },
  {
   "cell_type": "markdown",
   "id": "4b374dee",
   "metadata": {},
   "source": [
    "**Вывод** \n",
    "\n",
    "Между контрольными группами нет статистически значимых различий. Значит, эксперимент был проведен корректно: показатели контрольных групп схожи между собой."
   ]
  },
  {
   "cell_type": "markdown",
   "id": "8991792b",
   "metadata": {},
   "source": [
    "**Сравним результаты с каждой из контрольных групп в отдельности по каждому событию.** "
   ]
  },
  {
   "cell_type": "markdown",
   "id": "f507dd87",
   "metadata": {},
   "source": [
    "**Гипотезы:**\n",
    "- Нулевая гипотеза: статистически значимых различий между долями групп 246 (контрольная группа) и 248 (экспериментальная группа) нет.\n",
    "- Альтернативная гипотеза: между долями групп 246 (контрольная группа) и 248 (экспериментальная группа) есть значимая разница.\n",
    "\n",
    "В качестве уровня значимости используем 0.05. Уровень точности в 5% будет достаточен для нас при оценке результатов А/В-теста, чтобы не отвергнуть правильную гипотезу."
   ]
  },
  {
   "cell_type": "code",
   "execution_count": 51,
   "id": "c5d0e9f9",
   "metadata": {},
   "outputs": [
    {
     "name": "stdout",
     "output_type": "stream",
     "text": [
      "Отличие между группами 246 и 248\n",
      "Шаг Главный экран\n",
      "p-value: 0.295\n",
      "Не получилось отвергнуть нулевую гипотезу, нет оснований считать доли разными\n",
      "\n",
      "Шаг Экран предложений\n",
      "p-value: 0.208\n",
      "Не получилось отвергнуть нулевую гипотезу, нет оснований считать доли разными\n",
      "\n",
      "Шаг Экран корзины\n",
      "p-value: 0.078\n",
      "Не получилось отвергнуть нулевую гипотезу, нет оснований считать доли разными\n",
      "\n",
      "Шаг Оплата прошла успешно\n",
      "p-value: 0.212\n",
      "Не получилось отвергнуть нулевую гипотезу, нет оснований считать доли разными\n",
      "\n"
     ]
    }
   ],
   "source": [
    "#сравним события групп 246 и 248 при помощи функции\n",
    "alpha = 0.05 # критический уровень статистической значимости\n",
    "comp_group(246, 248, alpha)"
   ]
  },
  {
   "cell_type": "markdown",
   "id": "0cdacb7b",
   "metadata": {},
   "source": [
    "**Гипотезы:**\n",
    "- Нулевая гипотеза: статистически значимых различий между долями групп 247 (контрольная группа) и 248 (экспериментальная группа) нет.\n",
    "- Альтернативная гипотеза: между долями групп 247 (контрольная группа) и 248 (экспериментальная группа) есть значимая разница.\n",
    "\n",
    "В качестве уровня значимости используем 0.05. Уровень точности в 5% будет достаточен для нас при оценке результатов А/В-теста, чтобы не отвергнуть правильную гипотезу."
   ]
  },
  {
   "cell_type": "code",
   "execution_count": 52,
   "id": "8b486946",
   "metadata": {},
   "outputs": [
    {
     "name": "stdout",
     "output_type": "stream",
     "text": [
      "Отличие между группами 247 и 248\n",
      "Шаг Главный экран\n",
      "p-value: 0.459\n",
      "Не получилось отвергнуть нулевую гипотезу, нет оснований считать доли разными\n",
      "\n",
      "Шаг Экран предложений\n",
      "p-value: 0.920\n",
      "Не получилось отвергнуть нулевую гипотезу, нет оснований считать доли разными\n",
      "\n",
      "Шаг Экран корзины\n",
      "p-value: 0.579\n",
      "Не получилось отвергнуть нулевую гипотезу, нет оснований считать доли разными\n",
      "\n",
      "Шаг Оплата прошла успешно\n",
      "p-value: 0.737\n",
      "Не получилось отвергнуть нулевую гипотезу, нет оснований считать доли разными\n",
      "\n"
     ]
    }
   ],
   "source": [
    "#сравним события групп 247 и 248 при помощи функции\n",
    "alpha = 0.05 # критический уровень статистической значимости\n",
    "comp_group(247, 248, alpha)"
   ]
  },
  {
   "cell_type": "markdown",
   "id": "b1992394",
   "metadata": {},
   "source": [
    "**Вывод** \n",
    "\n",
    "По результатам сравнения нет статистически значимых различий между контрольными группами (246 и 247) и экспериментальной группой (248). Это значит, поведение пользователей от изменения шрифта в приложении значимо не изменилось."
   ]
  },
  {
   "cell_type": "markdown",
   "id": "91cba51a",
   "metadata": {},
   "source": [
    "**Сравним результаты эксперимента с объединённой контрольной группой.**"
   ]
  },
  {
   "cell_type": "markdown",
   "id": "cfe98df2",
   "metadata": {},
   "source": [
    "Объединим данные по группам 246 и 247 в новую таблицу:"
   ]
  },
  {
   "cell_type": "code",
   "execution_count": 53,
   "id": "0895e2ae",
   "metadata": {},
   "outputs": [],
   "source": [
    "#объединим данные таблиц для групп 246 и 247 \n",
    "\n",
    "events[250] = events[246][['event_name','unique_users', 'event_count']].merge(\n",
    "    events[247][['event_name','unique_users', 'event_count']], on='event_name', how='left', suffixes=['_246', '_247']\n",
    ")\n",
    "events[250]['unique_users_sum'] = events[250]['unique_users_246'] + events[250]['unique_users_247']\n",
    "events[250]['event_count_sum'] = events[250]['event_count_246'] + events[250]['event_count_247']\n"
   ]
  },
  {
   "cell_type": "markdown",
   "id": "511d06b0",
   "metadata": {},
   "source": [
    "Проверим результат:"
   ]
  },
  {
   "cell_type": "code",
   "execution_count": 54,
   "id": "f1b0fafb",
   "metadata": {},
   "outputs": [
    {
     "data": {
      "text/html": [
       "<div>\n",
       "<style scoped>\n",
       "    .dataframe tbody tr th:only-of-type {\n",
       "        vertical-align: middle;\n",
       "    }\n",
       "\n",
       "    .dataframe tbody tr th {\n",
       "        vertical-align: top;\n",
       "    }\n",
       "\n",
       "    .dataframe thead th {\n",
       "        text-align: right;\n",
       "    }\n",
       "</style>\n",
       "<table border=\"1\" class=\"dataframe\">\n",
       "  <thead>\n",
       "    <tr style=\"text-align: right;\">\n",
       "      <th></th>\n",
       "      <th>event_name</th>\n",
       "      <th>unique_users_246</th>\n",
       "      <th>event_count_246</th>\n",
       "      <th>unique_users_247</th>\n",
       "      <th>event_count_247</th>\n",
       "      <th>unique_users_sum</th>\n",
       "      <th>event_count_sum</th>\n",
       "    </tr>\n",
       "  </thead>\n",
       "  <tbody>\n",
       "    <tr>\n",
       "      <th>0</th>\n",
       "      <td>MainScreenAppear</td>\n",
       "      <td>2450</td>\n",
       "      <td>37676</td>\n",
       "      <td>2476</td>\n",
       "      <td>39090</td>\n",
       "      <td>4926</td>\n",
       "      <td>76766</td>\n",
       "    </tr>\n",
       "    <tr>\n",
       "      <th>1</th>\n",
       "      <td>OffersScreenAppear</td>\n",
       "      <td>1542</td>\n",
       "      <td>14767</td>\n",
       "      <td>1520</td>\n",
       "      <td>15179</td>\n",
       "      <td>3062</td>\n",
       "      <td>29946</td>\n",
       "    </tr>\n",
       "    <tr>\n",
       "      <th>2</th>\n",
       "      <td>CartScreenAppear</td>\n",
       "      <td>1266</td>\n",
       "      <td>14690</td>\n",
       "      <td>1238</td>\n",
       "      <td>12434</td>\n",
       "      <td>2504</td>\n",
       "      <td>27124</td>\n",
       "    </tr>\n",
       "    <tr>\n",
       "      <th>3</th>\n",
       "      <td>PaymentScreenSuccessful</td>\n",
       "      <td>1200</td>\n",
       "      <td>11852</td>\n",
       "      <td>1158</td>\n",
       "      <td>9981</td>\n",
       "      <td>2358</td>\n",
       "      <td>21833</td>\n",
       "    </tr>\n",
       "    <tr>\n",
       "      <th>4</th>\n",
       "      <td>Tutorial</td>\n",
       "      <td>278</td>\n",
       "      <td>317</td>\n",
       "      <td>283</td>\n",
       "      <td>338</td>\n",
       "      <td>561</td>\n",
       "      <td>655</td>\n",
       "    </tr>\n",
       "  </tbody>\n",
       "</table>\n",
       "</div>"
      ],
      "text/plain": [
       "                event_name  unique_users_246  event_count_246  \\\n",
       "0         MainScreenAppear              2450            37676   \n",
       "1       OffersScreenAppear              1542            14767   \n",
       "2         CartScreenAppear              1266            14690   \n",
       "3  PaymentScreenSuccessful              1200            11852   \n",
       "4                 Tutorial               278              317   \n",
       "\n",
       "   unique_users_247  event_count_247  unique_users_sum  event_count_sum  \n",
       "0              2476            39090              4926            76766  \n",
       "1              1520            15179              3062            29946  \n",
       "2              1238            12434              2504            27124  \n",
       "3              1158             9981              2358            21833  \n",
       "4               283              338               561              655  "
      ]
     },
     "execution_count": 54,
     "metadata": {},
     "output_type": "execute_result"
    }
   ],
   "source": [
    "events[250]"
   ]
  },
  {
   "cell_type": "code",
   "execution_count": 55,
   "id": "9adaee37",
   "metadata": {
    "scrolled": true
   },
   "outputs": [
    {
     "name": "stdout",
     "output_type": "stream",
     "text": [
      "[4926, 4926, 3062, 2504, 2358]\n"
     ]
    }
   ],
   "source": [
    "#для расчета создадим лист с количеством уникальных пользователей для каждого события\n",
    "#продублируем в листе количество пользователей по первому событию \n",
    "#удалим количество пользователей по последнему событию\n",
    "\n",
    "users_list_250 = list(events[250].unique_users_sum.unique())\n",
    "users_list_250.insert(0,users_list_250[0])\n",
    "users_list_250.pop(-1)\n",
    "print(users_list_250)"
   ]
  },
  {
   "cell_type": "code",
   "execution_count": 56,
   "id": "cd906145",
   "metadata": {},
   "outputs": [],
   "source": [
    "#посчитаем долю пользователей, которые совершили событие от общего числа уникальных пользователей\n",
    "#посчитаем долю пользователей, которые совершили событие от тех, кто совершил предыдущее событие\n",
    "\n",
    "events[250]['all_users_ratio'] = round(events[250]['unique_users_sum'] / df_2[(df_2['group'] == 246) | (df_2['group'] == 247)]['device_id'].nunique() * 100, 2)                                       \n",
    "events[250]['user_step_ratio'] = round(events[250]['unique_users_sum'].div(users_list_250, axis=0)*100, 2)\n"
   ]
  },
  {
   "cell_type": "markdown",
   "id": "26164e89",
   "metadata": {},
   "source": [
    "Проверим результат:"
   ]
  },
  {
   "cell_type": "code",
   "execution_count": 57,
   "id": "f7504825",
   "metadata": {},
   "outputs": [
    {
     "data": {
      "text/html": [
       "<div>\n",
       "<style scoped>\n",
       "    .dataframe tbody tr th:only-of-type {\n",
       "        vertical-align: middle;\n",
       "    }\n",
       "\n",
       "    .dataframe tbody tr th {\n",
       "        vertical-align: top;\n",
       "    }\n",
       "\n",
       "    .dataframe thead th {\n",
       "        text-align: right;\n",
       "    }\n",
       "</style>\n",
       "<table border=\"1\" class=\"dataframe\">\n",
       "  <thead>\n",
       "    <tr style=\"text-align: right;\">\n",
       "      <th></th>\n",
       "      <th>event_name</th>\n",
       "      <th>unique_users_246</th>\n",
       "      <th>event_count_246</th>\n",
       "      <th>unique_users_247</th>\n",
       "      <th>event_count_247</th>\n",
       "      <th>unique_users_sum</th>\n",
       "      <th>event_count_sum</th>\n",
       "      <th>all_users_ratio</th>\n",
       "      <th>user_step_ratio</th>\n",
       "    </tr>\n",
       "  </thead>\n",
       "  <tbody>\n",
       "    <tr>\n",
       "      <th>0</th>\n",
       "      <td>MainScreenAppear</td>\n",
       "      <td>2450</td>\n",
       "      <td>37676</td>\n",
       "      <td>2476</td>\n",
       "      <td>39090</td>\n",
       "      <td>4926</td>\n",
       "      <td>76766</td>\n",
       "      <td>98.58</td>\n",
       "      <td>100.00</td>\n",
       "    </tr>\n",
       "    <tr>\n",
       "      <th>1</th>\n",
       "      <td>OffersScreenAppear</td>\n",
       "      <td>1542</td>\n",
       "      <td>14767</td>\n",
       "      <td>1520</td>\n",
       "      <td>15179</td>\n",
       "      <td>3062</td>\n",
       "      <td>29946</td>\n",
       "      <td>61.28</td>\n",
       "      <td>62.16</td>\n",
       "    </tr>\n",
       "    <tr>\n",
       "      <th>2</th>\n",
       "      <td>CartScreenAppear</td>\n",
       "      <td>1266</td>\n",
       "      <td>14690</td>\n",
       "      <td>1238</td>\n",
       "      <td>12434</td>\n",
       "      <td>2504</td>\n",
       "      <td>27124</td>\n",
       "      <td>50.11</td>\n",
       "      <td>81.78</td>\n",
       "    </tr>\n",
       "    <tr>\n",
       "      <th>3</th>\n",
       "      <td>PaymentScreenSuccessful</td>\n",
       "      <td>1200</td>\n",
       "      <td>11852</td>\n",
       "      <td>1158</td>\n",
       "      <td>9981</td>\n",
       "      <td>2358</td>\n",
       "      <td>21833</td>\n",
       "      <td>47.19</td>\n",
       "      <td>94.17</td>\n",
       "    </tr>\n",
       "    <tr>\n",
       "      <th>4</th>\n",
       "      <td>Tutorial</td>\n",
       "      <td>278</td>\n",
       "      <td>317</td>\n",
       "      <td>283</td>\n",
       "      <td>338</td>\n",
       "      <td>561</td>\n",
       "      <td>655</td>\n",
       "      <td>11.23</td>\n",
       "      <td>23.79</td>\n",
       "    </tr>\n",
       "  </tbody>\n",
       "</table>\n",
       "</div>"
      ],
      "text/plain": [
       "                event_name  unique_users_246  event_count_246  \\\n",
       "0         MainScreenAppear              2450            37676   \n",
       "1       OffersScreenAppear              1542            14767   \n",
       "2         CartScreenAppear              1266            14690   \n",
       "3  PaymentScreenSuccessful              1200            11852   \n",
       "4                 Tutorial               278              317   \n",
       "\n",
       "   unique_users_247  event_count_247  unique_users_sum  event_count_sum  \\\n",
       "0              2476            39090              4926            76766   \n",
       "1              1520            15179              3062            29946   \n",
       "2              1238            12434              2504            27124   \n",
       "3              1158             9981              2358            21833   \n",
       "4               283              338               561              655   \n",
       "\n",
       "   all_users_ratio  user_step_ratio  \n",
       "0            98.58           100.00  \n",
       "1            61.28            62.16  \n",
       "2            50.11            81.78  \n",
       "3            47.19            94.17  \n",
       "4            11.23            23.79  "
      ]
     },
     "execution_count": 57,
     "metadata": {},
     "output_type": "execute_result"
    }
   ],
   "source": [
    "events[250]"
   ]
  },
  {
   "cell_type": "code",
   "execution_count": 58,
   "id": "efef22f4",
   "metadata": {},
   "outputs": [
    {
     "name": "stdout",
     "output_type": "stream",
     "text": [
      "[246, 247, 248, 250]\n"
     ]
    }
   ],
   "source": [
    "#дополним список групп\n",
    "groups.append(250)\n",
    "print(groups)"
   ]
  },
  {
   "cell_type": "code",
   "execution_count": 59,
   "id": "91fbf569",
   "metadata": {},
   "outputs": [
    {
     "name": "stdout",
     "output_type": "stream",
     "text": [
      "[2484, 2513, 2537, 4997]\n",
      "[2450, 2476, 2493, 4926]\n",
      "[1542, 1520, 1531, 3062]\n",
      "[1266, 1238, 1230, 2504]\n",
      "[1200, 1158, 1181, 2358]\n"
     ]
    }
   ],
   "source": [
    "#дополним количество пользователей для каждого события\n",
    "\n",
    "steps = [UniqueUsers,\n",
    "         MainScreenAppear, \n",
    "         OffersScreenAppear, \n",
    "         CartScreenAppear, \n",
    "         PaymentScreenSuccessful]\n",
    "\n",
    "for item in steps:\n",
    "    item.append(item[0] + item[1])\n",
    "    print(item)"
   ]
  },
  {
   "cell_type": "markdown",
   "id": "609118f2",
   "metadata": {},
   "source": [
    "Сравним результаты эксперимента с объединённой контрольной группой:"
   ]
  },
  {
   "cell_type": "markdown",
   "id": "87b2792f",
   "metadata": {},
   "source": [
    "**Гипотезы:**\n",
    "- Нулевая гипотеза: статистически значимых различий между долями групп 250 (объединенная контрольная группа) и 248 (экспериментальная группа) нет.\n",
    "- Альтернативная гипотеза: между долями групп 250 (объединенная контрольная группа) и 248 (экспериментальная группа) есть значимая разница.\n",
    "\n",
    "В качестве уровня значимости используем 0.05. Уровень точности в 5% будет достаточен для нас при оценке результатов А/В-теста, чтобы не отвергнуть правильную гипотезу."
   ]
  },
  {
   "cell_type": "code",
   "execution_count": 60,
   "id": "a7702e10",
   "metadata": {
    "scrolled": true
   },
   "outputs": [
    {
     "name": "stdout",
     "output_type": "stream",
     "text": [
      "Отличие между группами 248 и 250\n",
      "Шаг Главный экран\n",
      "p-value: 0.294\n",
      "Не получилось отвергнуть нулевую гипотезу, нет оснований считать доли разными\n",
      "\n",
      "Шаг Экран предложений\n",
      "p-value: 0.434\n",
      "Не получилось отвергнуть нулевую гипотезу, нет оснований считать доли разными\n",
      "\n",
      "Шаг Экран корзины\n",
      "p-value: 0.182\n",
      "Не получилось отвергнуть нулевую гипотезу, нет оснований считать доли разными\n",
      "\n",
      "Шаг Оплата прошла успешно\n",
      "p-value: 0.600\n",
      "Не получилось отвергнуть нулевую гипотезу, нет оснований считать доли разными\n",
      "\n"
     ]
    }
   ],
   "source": [
    "#сравним события групп 248 и 250 при помощи функции\n",
    "alpha = 0.05 # критический уровень статистической значимости\n",
    "comp_group(248, 250,  alpha)"
   ]
  },
  {
   "cell_type": "markdown",
   "id": "2e8f34eb",
   "metadata": {},
   "source": [
    "**Какие выводы из эксперимента можно сделать?**\n",
    "\n",
    "Нет статистически значимого различия между экспериментальной группой и как с контрольными группами по отдельности, так и с объединенной контрольной группой. Можно сделать вывод о том, что эксперимент (изменение шрифта) не повлиял на поведение пользователей."
   ]
  },
  {
   "cell_type": "markdown",
   "id": "10d2c120",
   "metadata": {},
   "source": [
    "При проверке статистических гипотез был выбран уровень значимости 0.05. \n",
    "Это значит, что вероятность получить ошибку первого рода при эксперименте с тремя подгруппами растет экспоненциально и равна 0.14.  \n",
    "При этом p-value, полученные при сравнении, свидетельствуют о том, что изменение уровня статистической значимости не повляет на результаты сравнения. "
   ]
  },
  {
   "cell_type": "markdown",
   "id": "cdfa123b",
   "metadata": {},
   "source": [
    "## 6. Выводы"
   ]
  },
  {
   "cell_type": "markdown",
   "id": "25490a90",
   "metadata": {},
   "source": [
    "**1. По итогам анализа воронки событий можно сделать следующие выводы:**\n",
    "- 47,7% пользователей, которые зашли на главный экран, совершили успешную оплату заказа. Значит, половина пользователей, которые зашли в приложение, сделали заказ.\n",
    "- Больше всего пользователей (почти 40%) теряется на шаге 2 \"Открыт экран предложений\". Значит, 40% пользователей, которые заходят на главную страницу, не проходят дальше. Это может быть связано как с техническими проблемами (приложение вылетает), так и неудобным интерфейсом (пользователи не могут разобраться, как сделать заказ, и не проходят дальше главного экрана). Необходимо проверить, по какой причине пользователи не заходят в приложении дальше главного экрана."
   ]
  },
  {
   "cell_type": "markdown",
   "id": "24108071",
   "metadata": {},
   "source": [
    "**2. По данным A/A/B-эксперимента можно сказать:**\n",
    "- Нет статистически значимого различия в доле совершения всех событий между экспериментальной группой и как контрольными группами по отдельности, так и объединенной контрольной группой. \n",
    "- Таким образом, по представленным данным можно сделать вывод о том, что эксперимент (изменение шрифта) не повлиял на поведение пользователей."
   ]
  }
 ],
 "metadata": {
  "ExecuteTimeLog": [
   {
    "duration": 130,
    "start_time": "2022-08-20T10:42:23.652Z"
   },
   {
    "duration": 1200,
    "start_time": "2022-08-20T11:06:26.286Z"
   },
   {
    "duration": 278,
    "start_time": "2022-08-20T11:06:27.488Z"
   },
   {
    "duration": 24,
    "start_time": "2022-08-20T11:06:27.767Z"
   },
   {
    "duration": 24,
    "start_time": "2022-08-20T11:06:27.805Z"
   },
   {
    "duration": 138,
    "start_time": "2022-08-20T11:06:27.832Z"
   },
   {
    "duration": 160,
    "start_time": "2022-08-20T11:06:27.972Z"
   },
   {
    "duration": 605,
    "start_time": "2022-08-20T11:06:28.137Z"
   },
   {
    "duration": 0,
    "start_time": "2022-08-20T11:06:28.745Z"
   },
   {
    "duration": 0,
    "start_time": "2022-08-20T11:06:28.746Z"
   },
   {
    "duration": 0,
    "start_time": "2022-08-20T11:06:28.747Z"
   },
   {
    "duration": 0,
    "start_time": "2022-08-20T11:06:28.748Z"
   },
   {
    "duration": 0,
    "start_time": "2022-08-20T11:06:28.749Z"
   },
   {
    "duration": 0,
    "start_time": "2022-08-20T11:06:28.750Z"
   },
   {
    "duration": 0,
    "start_time": "2022-08-20T11:06:28.751Z"
   },
   {
    "duration": 0,
    "start_time": "2022-08-20T11:06:28.753Z"
   },
   {
    "duration": 0,
    "start_time": "2022-08-20T11:06:28.754Z"
   },
   {
    "duration": 0,
    "start_time": "2022-08-20T11:06:28.755Z"
   },
   {
    "duration": 0,
    "start_time": "2022-08-20T11:06:28.756Z"
   },
   {
    "duration": 0,
    "start_time": "2022-08-20T11:06:28.757Z"
   },
   {
    "duration": 0,
    "start_time": "2022-08-20T11:06:28.758Z"
   },
   {
    "duration": 0,
    "start_time": "2022-08-20T11:06:28.759Z"
   },
   {
    "duration": 0,
    "start_time": "2022-08-20T11:06:28.760Z"
   },
   {
    "duration": 0,
    "start_time": "2022-08-20T11:06:28.761Z"
   },
   {
    "duration": 0,
    "start_time": "2022-08-20T11:06:28.762Z"
   },
   {
    "duration": 0,
    "start_time": "2022-08-20T11:06:28.763Z"
   },
   {
    "duration": 0,
    "start_time": "2022-08-20T11:06:28.764Z"
   },
   {
    "duration": 0,
    "start_time": "2022-08-20T11:06:28.765Z"
   },
   {
    "duration": 0,
    "start_time": "2022-08-20T11:06:28.766Z"
   },
   {
    "duration": 0,
    "start_time": "2022-08-20T11:06:28.767Z"
   },
   {
    "duration": 0,
    "start_time": "2022-08-20T11:06:28.768Z"
   },
   {
    "duration": 0,
    "start_time": "2022-08-20T11:06:28.769Z"
   },
   {
    "duration": 0,
    "start_time": "2022-08-20T11:06:28.770Z"
   },
   {
    "duration": 0,
    "start_time": "2022-08-20T11:06:28.771Z"
   },
   {
    "duration": 0,
    "start_time": "2022-08-20T11:06:28.772Z"
   },
   {
    "duration": 0,
    "start_time": "2022-08-20T11:06:28.773Z"
   },
   {
    "duration": 0,
    "start_time": "2022-08-20T11:06:28.774Z"
   },
   {
    "duration": 0,
    "start_time": "2022-08-20T11:06:28.776Z"
   },
   {
    "duration": 0,
    "start_time": "2022-08-20T11:06:28.778Z"
   },
   {
    "duration": 0,
    "start_time": "2022-08-20T11:06:28.779Z"
   },
   {
    "duration": 0,
    "start_time": "2022-08-20T11:06:28.780Z"
   },
   {
    "duration": 0,
    "start_time": "2022-08-20T11:06:28.780Z"
   },
   {
    "duration": 0,
    "start_time": "2022-08-20T11:06:28.782Z"
   },
   {
    "duration": 1,
    "start_time": "2022-08-20T11:06:28.782Z"
   },
   {
    "duration": 0,
    "start_time": "2022-08-20T11:06:28.808Z"
   },
   {
    "duration": 0,
    "start_time": "2022-08-20T11:06:28.809Z"
   },
   {
    "duration": 0,
    "start_time": "2022-08-20T11:06:28.809Z"
   },
   {
    "duration": 0,
    "start_time": "2022-08-20T11:06:28.810Z"
   },
   {
    "duration": 0,
    "start_time": "2022-08-20T11:06:28.810Z"
   },
   {
    "duration": 0,
    "start_time": "2022-08-20T11:06:28.811Z"
   },
   {
    "duration": 0,
    "start_time": "2022-08-20T11:06:28.812Z"
   },
   {
    "duration": 0,
    "start_time": "2022-08-20T11:06:28.812Z"
   },
   {
    "duration": 0,
    "start_time": "2022-08-20T11:06:28.813Z"
   },
   {
    "duration": 0,
    "start_time": "2022-08-20T11:06:28.814Z"
   },
   {
    "duration": 0,
    "start_time": "2022-08-20T11:06:28.815Z"
   },
   {
    "duration": 0,
    "start_time": "2022-08-20T11:06:28.815Z"
   },
   {
    "duration": 0,
    "start_time": "2022-08-20T11:06:28.816Z"
   },
   {
    "duration": 0,
    "start_time": "2022-08-20T11:06:28.816Z"
   },
   {
    "duration": 0,
    "start_time": "2022-08-20T11:06:28.817Z"
   },
   {
    "duration": 1,
    "start_time": "2022-08-20T11:06:28.817Z"
   },
   {
    "duration": 0,
    "start_time": "2022-08-20T11:06:28.818Z"
   },
   {
    "duration": 0,
    "start_time": "2022-08-20T11:06:28.822Z"
   },
   {
    "duration": 0,
    "start_time": "2022-08-20T11:06:28.823Z"
   },
   {
    "duration": 9,
    "start_time": "2022-08-20T11:06:47.286Z"
   },
   {
    "duration": 159,
    "start_time": "2022-08-20T11:07:00.877Z"
   },
   {
    "duration": 1143,
    "start_time": "2022-08-20T11:07:04.135Z"
   },
   {
    "duration": 161,
    "start_time": "2022-08-20T11:07:05.280Z"
   },
   {
    "duration": 24,
    "start_time": "2022-08-20T11:07:05.443Z"
   },
   {
    "duration": 12,
    "start_time": "2022-08-20T11:07:05.469Z"
   },
   {
    "duration": 87,
    "start_time": "2022-08-20T11:07:05.483Z"
   },
   {
    "duration": 93,
    "start_time": "2022-08-20T11:07:05.571Z"
   },
   {
    "duration": 3,
    "start_time": "2022-08-20T11:07:05.666Z"
   },
   {
    "duration": 12,
    "start_time": "2022-08-20T11:07:05.670Z"
   },
   {
    "duration": 82,
    "start_time": "2022-08-20T11:07:05.684Z"
   },
   {
    "duration": 98,
    "start_time": "2022-08-20T11:07:05.767Z"
   },
   {
    "duration": 22,
    "start_time": "2022-08-20T11:07:05.866Z"
   },
   {
    "duration": 49,
    "start_time": "2022-08-20T11:07:05.890Z"
   },
   {
    "duration": 10,
    "start_time": "2022-08-20T11:07:05.941Z"
   },
   {
    "duration": 18,
    "start_time": "2022-08-20T11:07:05.954Z"
   },
   {
    "duration": 11,
    "start_time": "2022-08-20T11:07:05.974Z"
   },
   {
    "duration": 44,
    "start_time": "2022-08-20T11:07:05.986Z"
   },
   {
    "duration": 58,
    "start_time": "2022-08-20T11:07:06.032Z"
   },
   {
    "duration": 33,
    "start_time": "2022-08-20T11:07:06.092Z"
   },
   {
    "duration": 599,
    "start_time": "2022-08-20T11:07:06.132Z"
   },
   {
    "duration": 83,
    "start_time": "2022-08-20T11:07:06.737Z"
   },
   {
    "duration": 15,
    "start_time": "2022-08-20T11:07:06.823Z"
   },
   {
    "duration": 7,
    "start_time": "2022-08-20T11:07:06.839Z"
   },
   {
    "duration": 2229,
    "start_time": "2022-08-20T11:07:06.847Z"
   },
   {
    "duration": 7,
    "start_time": "2022-08-20T11:07:09.077Z"
   },
   {
    "duration": 65,
    "start_time": "2022-08-20T11:07:09.085Z"
   },
   {
    "duration": 7,
    "start_time": "2022-08-20T11:07:09.152Z"
   },
   {
    "duration": 42,
    "start_time": "2022-08-20T11:07:09.161Z"
   },
   {
    "duration": 96,
    "start_time": "2022-08-20T11:07:09.204Z"
   },
   {
    "duration": 7,
    "start_time": "2022-08-20T11:07:09.301Z"
   },
   {
    "duration": 111543,
    "start_time": "2022-08-20T11:07:09.310Z"
   },
   {
    "duration": 0,
    "start_time": "2022-08-20T11:09:00.855Z"
   },
   {
    "duration": 0,
    "start_time": "2022-08-20T11:09:00.856Z"
   },
   {
    "duration": 0,
    "start_time": "2022-08-20T11:09:00.857Z"
   },
   {
    "duration": 0,
    "start_time": "2022-08-20T11:09:00.859Z"
   },
   {
    "duration": 0,
    "start_time": "2022-08-20T11:09:00.860Z"
   },
   {
    "duration": 0,
    "start_time": "2022-08-20T11:09:00.861Z"
   },
   {
    "duration": 0,
    "start_time": "2022-08-20T11:09:00.861Z"
   },
   {
    "duration": 0,
    "start_time": "2022-08-20T11:09:00.862Z"
   },
   {
    "duration": 0,
    "start_time": "2022-08-20T11:09:00.863Z"
   },
   {
    "duration": 0,
    "start_time": "2022-08-20T11:09:00.864Z"
   },
   {
    "duration": 0,
    "start_time": "2022-08-20T11:09:00.865Z"
   },
   {
    "duration": 0,
    "start_time": "2022-08-20T11:09:00.866Z"
   },
   {
    "duration": 0,
    "start_time": "2022-08-20T11:09:00.867Z"
   },
   {
    "duration": 0,
    "start_time": "2022-08-20T11:09:00.868Z"
   },
   {
    "duration": 0,
    "start_time": "2022-08-20T11:09:00.869Z"
   },
   {
    "duration": 0,
    "start_time": "2022-08-20T11:09:00.870Z"
   },
   {
    "duration": 0,
    "start_time": "2022-08-20T11:09:00.871Z"
   },
   {
    "duration": 0,
    "start_time": "2022-08-20T11:09:00.872Z"
   },
   {
    "duration": 0,
    "start_time": "2022-08-20T11:09:00.874Z"
   },
   {
    "duration": 0,
    "start_time": "2022-08-20T11:09:00.874Z"
   },
   {
    "duration": 0,
    "start_time": "2022-08-20T11:09:00.909Z"
   },
   {
    "duration": 0,
    "start_time": "2022-08-20T11:09:00.912Z"
   },
   {
    "duration": 0,
    "start_time": "2022-08-20T11:09:00.913Z"
   },
   {
    "duration": 0,
    "start_time": "2022-08-20T11:09:00.914Z"
   },
   {
    "duration": 0,
    "start_time": "2022-08-20T11:09:00.915Z"
   },
   {
    "duration": 0,
    "start_time": "2022-08-20T11:09:00.916Z"
   },
   {
    "duration": 0,
    "start_time": "2022-08-20T11:09:00.916Z"
   },
   {
    "duration": 0,
    "start_time": "2022-08-20T11:09:00.917Z"
   },
   {
    "duration": 0,
    "start_time": "2022-08-20T11:09:00.917Z"
   },
   {
    "duration": 0,
    "start_time": "2022-08-20T11:09:00.918Z"
   },
   {
    "duration": 0,
    "start_time": "2022-08-20T11:09:00.919Z"
   },
   {
    "duration": 0,
    "start_time": "2022-08-20T11:09:00.920Z"
   },
   {
    "duration": 1394,
    "start_time": "2022-08-20T11:09:05.298Z"
   },
   {
    "duration": 196,
    "start_time": "2022-08-20T11:09:06.694Z"
   },
   {
    "duration": 39,
    "start_time": "2022-08-20T11:09:06.892Z"
   },
   {
    "duration": 15,
    "start_time": "2022-08-20T11:09:06.933Z"
   },
   {
    "duration": 80,
    "start_time": "2022-08-20T11:09:06.950Z"
   },
   {
    "duration": 84,
    "start_time": "2022-08-20T11:09:07.033Z"
   },
   {
    "duration": 4,
    "start_time": "2022-08-20T11:09:07.119Z"
   },
   {
    "duration": 20,
    "start_time": "2022-08-20T11:09:07.125Z"
   },
   {
    "duration": 87,
    "start_time": "2022-08-20T11:09:07.147Z"
   },
   {
    "duration": 107,
    "start_time": "2022-08-20T11:09:07.238Z"
   },
   {
    "duration": 25,
    "start_time": "2022-08-20T11:09:07.347Z"
   },
   {
    "duration": 73,
    "start_time": "2022-08-20T11:09:07.373Z"
   },
   {
    "duration": 11,
    "start_time": "2022-08-20T11:09:07.448Z"
   },
   {
    "duration": 21,
    "start_time": "2022-08-20T11:09:07.461Z"
   },
   {
    "duration": 41,
    "start_time": "2022-08-20T11:09:07.484Z"
   },
   {
    "duration": 18,
    "start_time": "2022-08-20T11:09:07.528Z"
   },
   {
    "duration": 14,
    "start_time": "2022-08-20T11:09:07.548Z"
   },
   {
    "duration": 14,
    "start_time": "2022-08-20T11:09:07.564Z"
   },
   {
    "duration": 456,
    "start_time": "2022-08-20T11:09:07.580Z"
   },
   {
    "duration": 45,
    "start_time": "2022-08-20T11:09:08.038Z"
   },
   {
    "duration": 11,
    "start_time": "2022-08-20T11:09:08.084Z"
   },
   {
    "duration": 9,
    "start_time": "2022-08-20T11:09:08.107Z"
   },
   {
    "duration": 2463,
    "start_time": "2022-08-20T11:09:08.121Z"
   },
   {
    "duration": 6,
    "start_time": "2022-08-20T11:09:10.586Z"
   },
   {
    "duration": 75,
    "start_time": "2022-08-20T11:09:10.593Z"
   },
   {
    "duration": 8,
    "start_time": "2022-08-20T11:09:10.670Z"
   },
   {
    "duration": 38,
    "start_time": "2022-08-20T11:09:10.680Z"
   },
   {
    "duration": 67,
    "start_time": "2022-08-20T11:09:10.726Z"
   },
   {
    "duration": 6,
    "start_time": "2022-08-20T11:09:10.795Z"
   },
   {
    "duration": 82514,
    "start_time": "2022-08-20T11:09:10.802Z"
   },
   {
    "duration": 0,
    "start_time": "2022-08-20T11:10:33.318Z"
   },
   {
    "duration": 0,
    "start_time": "2022-08-20T11:10:33.319Z"
   },
   {
    "duration": 0,
    "start_time": "2022-08-20T11:10:33.320Z"
   },
   {
    "duration": 0,
    "start_time": "2022-08-20T11:10:33.322Z"
   },
   {
    "duration": 0,
    "start_time": "2022-08-20T11:10:33.323Z"
   },
   {
    "duration": 0,
    "start_time": "2022-08-20T11:10:33.325Z"
   },
   {
    "duration": 0,
    "start_time": "2022-08-20T11:10:33.326Z"
   },
   {
    "duration": 0,
    "start_time": "2022-08-20T11:10:33.328Z"
   },
   {
    "duration": 0,
    "start_time": "2022-08-20T11:10:33.329Z"
   },
   {
    "duration": 0,
    "start_time": "2022-08-20T11:10:33.330Z"
   },
   {
    "duration": 0,
    "start_time": "2022-08-20T11:10:33.331Z"
   },
   {
    "duration": 0,
    "start_time": "2022-08-20T11:10:33.334Z"
   },
   {
    "duration": 0,
    "start_time": "2022-08-20T11:10:33.336Z"
   },
   {
    "duration": 0,
    "start_time": "2022-08-20T11:10:33.337Z"
   },
   {
    "duration": 0,
    "start_time": "2022-08-20T11:10:33.338Z"
   },
   {
    "duration": 1,
    "start_time": "2022-08-20T11:10:33.341Z"
   },
   {
    "duration": 0,
    "start_time": "2022-08-20T11:10:33.343Z"
   },
   {
    "duration": 0,
    "start_time": "2022-08-20T11:10:33.343Z"
   },
   {
    "duration": 0,
    "start_time": "2022-08-20T11:10:33.345Z"
   },
   {
    "duration": 0,
    "start_time": "2022-08-20T11:10:33.345Z"
   },
   {
    "duration": 0,
    "start_time": "2022-08-20T11:10:33.347Z"
   },
   {
    "duration": 0,
    "start_time": "2022-08-20T11:10:33.348Z"
   },
   {
    "duration": 1,
    "start_time": "2022-08-20T11:10:33.348Z"
   },
   {
    "duration": 0,
    "start_time": "2022-08-20T11:10:33.350Z"
   },
   {
    "duration": 0,
    "start_time": "2022-08-20T11:10:33.351Z"
   },
   {
    "duration": 0,
    "start_time": "2022-08-20T11:10:33.351Z"
   },
   {
    "duration": 0,
    "start_time": "2022-08-20T11:10:33.353Z"
   },
   {
    "duration": 0,
    "start_time": "2022-08-20T11:10:33.354Z"
   },
   {
    "duration": 0,
    "start_time": "2022-08-20T11:10:33.354Z"
   },
   {
    "duration": 0,
    "start_time": "2022-08-20T11:10:33.355Z"
   },
   {
    "duration": 0,
    "start_time": "2022-08-20T11:10:33.356Z"
   },
   {
    "duration": 0,
    "start_time": "2022-08-20T11:10:33.357Z"
   },
   {
    "duration": 15,
    "start_time": "2022-08-20T11:10:39.356Z"
   },
   {
    "duration": 4,
    "start_time": "2022-08-20T11:10:57.385Z"
   },
   {
    "duration": 674,
    "start_time": "2022-08-20T11:11:04.571Z"
   },
   {
    "duration": 11,
    "start_time": "2022-08-20T11:11:34.556Z"
   },
   {
    "duration": 8,
    "start_time": "2022-08-20T11:11:40.190Z"
   },
   {
    "duration": 16,
    "start_time": "2022-08-20T11:11:58.208Z"
   },
   {
    "duration": 402,
    "start_time": "2022-08-20T11:12:34.899Z"
   },
   {
    "duration": 450,
    "start_time": "2022-08-20T11:13:13.541Z"
   },
   {
    "duration": 434,
    "start_time": "2022-08-20T11:13:23.833Z"
   },
   {
    "duration": 488,
    "start_time": "2022-08-20T11:14:21.355Z"
   },
   {
    "duration": 482,
    "start_time": "2022-08-20T11:15:21.629Z"
   },
   {
    "duration": 2335,
    "start_time": "2022-08-20T11:15:33.164Z"
   },
   {
    "duration": 2575,
    "start_time": "2022-08-20T11:15:45.532Z"
   },
   {
    "duration": 526,
    "start_time": "2022-08-20T11:15:54.234Z"
   },
   {
    "duration": 419,
    "start_time": "2022-08-20T11:16:50.770Z"
   },
   {
    "duration": 406,
    "start_time": "2022-08-20T11:17:02.448Z"
   },
   {
    "duration": 14,
    "start_time": "2022-08-20T11:17:06.529Z"
   },
   {
    "duration": 34,
    "start_time": "2022-08-20T11:17:39.348Z"
   },
   {
    "duration": 55,
    "start_time": "2022-08-20T11:17:45.398Z"
   },
   {
    "duration": 431,
    "start_time": "2022-08-20T11:18:00.931Z"
   },
   {
    "duration": 1096,
    "start_time": "2022-08-20T11:19:44.746Z"
   },
   {
    "duration": 152,
    "start_time": "2022-08-20T11:19:45.844Z"
   },
   {
    "duration": 43,
    "start_time": "2022-08-20T11:19:45.998Z"
   },
   {
    "duration": 33,
    "start_time": "2022-08-20T11:19:46.043Z"
   },
   {
    "duration": 86,
    "start_time": "2022-08-20T11:19:46.078Z"
   },
   {
    "duration": 90,
    "start_time": "2022-08-20T11:19:46.166Z"
   },
   {
    "duration": 4,
    "start_time": "2022-08-20T11:19:46.258Z"
   },
   {
    "duration": 17,
    "start_time": "2022-08-20T11:19:46.264Z"
   },
   {
    "duration": 106,
    "start_time": "2022-08-20T11:19:46.283Z"
   },
   {
    "duration": 111,
    "start_time": "2022-08-20T11:19:46.392Z"
   },
   {
    "duration": 34,
    "start_time": "2022-08-20T11:19:46.505Z"
   },
   {
    "duration": 40,
    "start_time": "2022-08-20T11:19:46.541Z"
   },
   {
    "duration": 9,
    "start_time": "2022-08-20T11:19:46.582Z"
   },
   {
    "duration": 42,
    "start_time": "2022-08-20T11:19:46.607Z"
   },
   {
    "duration": 15,
    "start_time": "2022-08-20T11:19:46.650Z"
   },
   {
    "duration": 13,
    "start_time": "2022-08-20T11:19:46.667Z"
   },
   {
    "duration": 12,
    "start_time": "2022-08-20T11:19:46.682Z"
   },
   {
    "duration": 36,
    "start_time": "2022-08-20T11:19:46.696Z"
   },
   {
    "duration": 396,
    "start_time": "2022-08-20T11:19:46.734Z"
   },
   {
    "duration": 42,
    "start_time": "2022-08-20T11:19:47.132Z"
   },
   {
    "duration": 9,
    "start_time": "2022-08-20T11:19:47.176Z"
   },
   {
    "duration": 7,
    "start_time": "2022-08-20T11:19:47.187Z"
   },
   {
    "duration": 2213,
    "start_time": "2022-08-20T11:19:47.196Z"
   },
   {
    "duration": 11,
    "start_time": "2022-08-20T11:19:49.414Z"
   },
   {
    "duration": 49,
    "start_time": "2022-08-20T11:19:49.433Z"
   },
   {
    "duration": 7,
    "start_time": "2022-08-20T11:19:49.484Z"
   },
   {
    "duration": 41,
    "start_time": "2022-08-20T11:19:49.493Z"
   },
   {
    "duration": 53,
    "start_time": "2022-08-20T11:19:49.537Z"
   },
   {
    "duration": 24,
    "start_time": "2022-08-20T11:19:49.592Z"
   },
   {
    "duration": 95970,
    "start_time": "2022-08-20T11:19:49.617Z"
   },
   {
    "duration": 0,
    "start_time": "2022-08-20T11:21:25.589Z"
   },
   {
    "duration": 0,
    "start_time": "2022-08-20T11:21:25.590Z"
   },
   {
    "duration": 0,
    "start_time": "2022-08-20T11:21:25.590Z"
   },
   {
    "duration": 0,
    "start_time": "2022-08-20T11:21:25.592Z"
   },
   {
    "duration": 0,
    "start_time": "2022-08-20T11:21:25.593Z"
   },
   {
    "duration": 0,
    "start_time": "2022-08-20T11:21:25.594Z"
   },
   {
    "duration": 0,
    "start_time": "2022-08-20T11:21:25.614Z"
   },
   {
    "duration": 0,
    "start_time": "2022-08-20T11:21:25.615Z"
   },
   {
    "duration": 0,
    "start_time": "2022-08-20T11:21:25.615Z"
   },
   {
    "duration": 0,
    "start_time": "2022-08-20T11:21:25.616Z"
   },
   {
    "duration": 0,
    "start_time": "2022-08-20T11:21:25.616Z"
   },
   {
    "duration": 0,
    "start_time": "2022-08-20T11:21:25.617Z"
   },
   {
    "duration": 0,
    "start_time": "2022-08-20T11:21:25.617Z"
   },
   {
    "duration": 0,
    "start_time": "2022-08-20T11:21:25.618Z"
   },
   {
    "duration": 0,
    "start_time": "2022-08-20T11:21:25.619Z"
   },
   {
    "duration": 0,
    "start_time": "2022-08-20T11:21:25.620Z"
   },
   {
    "duration": 0,
    "start_time": "2022-08-20T11:21:25.621Z"
   },
   {
    "duration": 0,
    "start_time": "2022-08-20T11:21:25.622Z"
   },
   {
    "duration": 0,
    "start_time": "2022-08-20T11:21:25.626Z"
   },
   {
    "duration": 0,
    "start_time": "2022-08-20T11:21:25.628Z"
   },
   {
    "duration": 0,
    "start_time": "2022-08-20T11:21:25.629Z"
   },
   {
    "duration": 0,
    "start_time": "2022-08-20T11:21:25.629Z"
   },
   {
    "duration": 0,
    "start_time": "2022-08-20T11:21:25.630Z"
   },
   {
    "duration": 1,
    "start_time": "2022-08-20T11:21:25.631Z"
   },
   {
    "duration": 0,
    "start_time": "2022-08-20T11:21:25.633Z"
   },
   {
    "duration": 0,
    "start_time": "2022-08-20T11:21:25.634Z"
   },
   {
    "duration": 0,
    "start_time": "2022-08-20T11:21:25.635Z"
   },
   {
    "duration": 0,
    "start_time": "2022-08-20T11:21:25.636Z"
   },
   {
    "duration": 0,
    "start_time": "2022-08-20T11:21:25.637Z"
   },
   {
    "duration": 0,
    "start_time": "2022-08-20T11:21:25.638Z"
   },
   {
    "duration": 0,
    "start_time": "2022-08-20T11:21:25.640Z"
   },
   {
    "duration": 0,
    "start_time": "2022-08-20T11:21:25.641Z"
   },
   {
    "duration": 1252,
    "start_time": "2022-08-20T11:21:36.887Z"
   },
   {
    "duration": 182,
    "start_time": "2022-08-20T11:21:38.144Z"
   },
   {
    "duration": 38,
    "start_time": "2022-08-20T11:21:38.333Z"
   },
   {
    "duration": 19,
    "start_time": "2022-08-20T11:21:38.374Z"
   },
   {
    "duration": 97,
    "start_time": "2022-08-20T11:21:38.394Z"
   },
   {
    "duration": 101,
    "start_time": "2022-08-20T11:21:38.493Z"
   },
   {
    "duration": 2,
    "start_time": "2022-08-20T11:21:38.596Z"
   },
   {
    "duration": 30,
    "start_time": "2022-08-20T11:21:38.608Z"
   },
   {
    "duration": 76,
    "start_time": "2022-08-20T11:21:38.640Z"
   },
   {
    "duration": 104,
    "start_time": "2022-08-20T11:21:38.719Z"
   },
   {
    "duration": 40,
    "start_time": "2022-08-20T11:21:38.824Z"
   },
   {
    "duration": 36,
    "start_time": "2022-08-20T11:21:38.866Z"
   },
   {
    "duration": 24,
    "start_time": "2022-08-20T11:21:38.903Z"
   },
   {
    "duration": 42,
    "start_time": "2022-08-20T11:21:38.929Z"
   },
   {
    "duration": 11,
    "start_time": "2022-08-20T11:21:38.973Z"
   },
   {
    "duration": 12,
    "start_time": "2022-08-20T11:21:38.985Z"
   },
   {
    "duration": 30,
    "start_time": "2022-08-20T11:21:38.999Z"
   },
   {
    "duration": 18,
    "start_time": "2022-08-20T11:21:39.031Z"
   },
   {
    "duration": 387,
    "start_time": "2022-08-20T11:21:39.051Z"
   },
   {
    "duration": 43,
    "start_time": "2022-08-20T11:21:39.440Z"
   },
   {
    "duration": 34,
    "start_time": "2022-08-20T11:21:39.485Z"
   },
   {
    "duration": 22,
    "start_time": "2022-08-20T11:21:39.525Z"
   },
   {
    "duration": 2266,
    "start_time": "2022-08-20T11:21:39.548Z"
   },
   {
    "duration": 10,
    "start_time": "2022-08-20T11:21:41.818Z"
   },
   {
    "duration": 60,
    "start_time": "2022-08-20T11:21:41.833Z"
   },
   {
    "duration": 8,
    "start_time": "2022-08-20T11:21:41.894Z"
   },
   {
    "duration": 43,
    "start_time": "2022-08-20T11:21:41.904Z"
   },
   {
    "duration": 53,
    "start_time": "2022-08-20T11:21:41.950Z"
   },
   {
    "duration": 22,
    "start_time": "2022-08-20T11:21:42.005Z"
   },
   {
    "duration": 174940,
    "start_time": "2022-08-20T11:21:42.042Z"
   },
   {
    "duration": 3,
    "start_time": "2022-08-20T11:24:36.984Z"
   },
   {
    "duration": 34,
    "start_time": "2022-08-20T11:24:36.989Z"
   },
   {
    "duration": 15,
    "start_time": "2022-08-20T11:24:37.024Z"
   },
   {
    "duration": 13,
    "start_time": "2022-08-20T11:24:37.041Z"
   },
   {
    "duration": 11,
    "start_time": "2022-08-20T11:24:37.055Z"
   },
   {
    "duration": 13,
    "start_time": "2022-08-20T11:24:37.068Z"
   },
   {
    "duration": 35,
    "start_time": "2022-08-20T11:24:37.083Z"
   },
   {
    "duration": 9,
    "start_time": "2022-08-20T11:24:37.120Z"
   },
   {
    "duration": 11,
    "start_time": "2022-08-20T11:24:37.130Z"
   },
   {
    "duration": 193,
    "start_time": "2022-08-20T11:24:37.142Z"
   },
   {
    "duration": 36,
    "start_time": "2022-08-20T11:24:37.337Z"
   },
   {
    "duration": 40,
    "start_time": "2022-08-20T11:24:37.375Z"
   },
   {
    "duration": 174,
    "start_time": "2022-08-20T11:24:37.416Z"
   },
   {
    "duration": 73,
    "start_time": "2022-08-20T11:24:37.592Z"
   },
   {
    "duration": 10,
    "start_time": "2022-08-20T11:24:37.667Z"
   },
   {
    "duration": 214,
    "start_time": "2022-08-20T11:24:37.679Z"
   },
   {
    "duration": 51,
    "start_time": "2022-08-20T11:24:37.895Z"
   },
   {
    "duration": 4,
    "start_time": "2022-08-20T11:24:37.948Z"
   },
   {
    "duration": 7,
    "start_time": "2022-08-20T11:24:37.954Z"
   },
   {
    "duration": 14,
    "start_time": "2022-08-20T11:24:37.963Z"
   },
   {
    "duration": 39,
    "start_time": "2022-08-20T11:24:37.979Z"
   },
   {
    "duration": 26,
    "start_time": "2022-08-20T11:24:38.020Z"
   },
   {
    "duration": 10,
    "start_time": "2022-08-20T11:24:38.048Z"
   },
   {
    "duration": 11,
    "start_time": "2022-08-20T11:24:38.060Z"
   },
   {
    "duration": 7,
    "start_time": "2022-08-20T11:24:38.073Z"
   },
   {
    "duration": 33,
    "start_time": "2022-08-20T11:24:38.082Z"
   },
   {
    "duration": 16,
    "start_time": "2022-08-20T11:24:38.117Z"
   },
   {
    "duration": 9,
    "start_time": "2022-08-20T11:24:38.134Z"
   },
   {
    "duration": 5,
    "start_time": "2022-08-20T11:24:38.144Z"
   },
   {
    "duration": 127,
    "start_time": "2022-08-20T11:24:38.151Z"
   },
   {
    "duration": 0,
    "start_time": "2022-08-20T11:24:38.280Z"
   },
   {
    "duration": 0,
    "start_time": "2022-08-20T11:24:38.281Z"
   },
   {
    "duration": 4,
    "start_time": "2022-08-20T11:27:03.391Z"
   },
   {
    "duration": 13,
    "start_time": "2022-08-20T11:27:19.754Z"
   },
   {
    "duration": 6,
    "start_time": "2022-08-20T11:29:30.675Z"
   },
   {
    "duration": 15,
    "start_time": "2022-08-20T11:29:32.534Z"
   },
   {
    "duration": 19,
    "start_time": "2022-08-20T11:29:48.183Z"
   },
   {
    "duration": 38,
    "start_time": "2022-08-20T11:30:04.106Z"
   },
   {
    "duration": 92,
    "start_time": "2022-08-20T11:30:44.831Z"
   },
   {
    "duration": 97,
    "start_time": "2022-08-20T11:31:07.941Z"
   },
   {
    "duration": 104,
    "start_time": "2022-08-20T11:31:12.543Z"
   },
   {
    "duration": 13,
    "start_time": "2022-08-20T11:31:18.735Z"
   },
   {
    "duration": 1272,
    "start_time": "2022-08-20T11:31:46.276Z"
   },
   {
    "duration": 197,
    "start_time": "2022-08-20T11:31:47.550Z"
   },
   {
    "duration": 39,
    "start_time": "2022-08-20T11:31:47.749Z"
   },
   {
    "duration": 22,
    "start_time": "2022-08-20T11:31:47.791Z"
   },
   {
    "duration": 88,
    "start_time": "2022-08-20T11:31:47.814Z"
   },
   {
    "duration": 88,
    "start_time": "2022-08-20T11:31:47.904Z"
   },
   {
    "duration": 4,
    "start_time": "2022-08-20T11:31:47.994Z"
   },
   {
    "duration": 48,
    "start_time": "2022-08-20T11:31:48.006Z"
   },
   {
    "duration": 89,
    "start_time": "2022-08-20T11:31:48.057Z"
   },
   {
    "duration": 106,
    "start_time": "2022-08-20T11:31:48.149Z"
   },
   {
    "duration": 31,
    "start_time": "2022-08-20T11:31:48.257Z"
   },
   {
    "duration": 59,
    "start_time": "2022-08-20T11:31:48.290Z"
   },
   {
    "duration": 16,
    "start_time": "2022-08-20T11:31:48.352Z"
   },
   {
    "duration": 41,
    "start_time": "2022-08-20T11:31:48.370Z"
   },
   {
    "duration": 42,
    "start_time": "2022-08-20T11:31:48.414Z"
   },
   {
    "duration": 16,
    "start_time": "2022-08-20T11:31:48.458Z"
   },
   {
    "duration": 21,
    "start_time": "2022-08-20T11:31:48.476Z"
   },
   {
    "duration": 66,
    "start_time": "2022-08-20T11:31:48.500Z"
   },
   {
    "duration": 434,
    "start_time": "2022-08-20T11:31:48.568Z"
   },
   {
    "duration": 56,
    "start_time": "2022-08-20T11:31:49.004Z"
   },
   {
    "duration": 11,
    "start_time": "2022-08-20T11:31:49.062Z"
   },
   {
    "duration": 8,
    "start_time": "2022-08-20T11:31:49.074Z"
   },
   {
    "duration": 2361,
    "start_time": "2022-08-20T11:31:49.084Z"
   },
   {
    "duration": 9,
    "start_time": "2022-08-20T11:31:51.448Z"
   },
   {
    "duration": 72,
    "start_time": "2022-08-20T11:31:51.459Z"
   },
   {
    "duration": 12,
    "start_time": "2022-08-20T11:31:51.532Z"
   },
   {
    "duration": 24,
    "start_time": "2022-08-20T11:31:51.545Z"
   },
   {
    "duration": 75,
    "start_time": "2022-08-20T11:31:51.573Z"
   },
   {
    "duration": 7,
    "start_time": "2022-08-20T11:31:51.650Z"
   },
   {
    "duration": 185557,
    "start_time": "2022-08-20T11:31:51.659Z"
   },
   {
    "duration": 13,
    "start_time": "2022-08-20T11:34:57.228Z"
   },
   {
    "duration": 23,
    "start_time": "2022-08-20T11:34:57.243Z"
   },
   {
    "duration": 12,
    "start_time": "2022-08-20T11:34:57.267Z"
   },
   {
    "duration": 11,
    "start_time": "2022-08-20T11:34:57.280Z"
   },
   {
    "duration": 22,
    "start_time": "2022-08-20T11:34:57.293Z"
   },
   {
    "duration": 29,
    "start_time": "2022-08-20T11:34:57.316Z"
   },
   {
    "duration": 13,
    "start_time": "2022-08-20T11:34:57.347Z"
   },
   {
    "duration": 5,
    "start_time": "2022-08-20T11:34:57.362Z"
   },
   {
    "duration": 17,
    "start_time": "2022-08-20T11:34:57.369Z"
   },
   {
    "duration": 221,
    "start_time": "2022-08-20T11:34:57.416Z"
   },
   {
    "duration": 91,
    "start_time": "2022-08-20T11:34:57.640Z"
   },
   {
    "duration": 4,
    "start_time": "2022-08-20T11:34:57.736Z"
   },
   {
    "duration": 224,
    "start_time": "2022-08-20T11:34:57.741Z"
   },
   {
    "duration": 70,
    "start_time": "2022-08-20T11:34:57.967Z"
   },
   {
    "duration": 17,
    "start_time": "2022-08-20T11:34:58.039Z"
   },
   {
    "duration": 199,
    "start_time": "2022-08-20T11:34:58.058Z"
   },
   {
    "duration": 51,
    "start_time": "2022-08-20T11:34:58.259Z"
   },
   {
    "duration": 5,
    "start_time": "2022-08-20T11:34:58.312Z"
   },
   {
    "duration": 35,
    "start_time": "2022-08-20T11:34:58.319Z"
   },
   {
    "duration": 26,
    "start_time": "2022-08-20T11:34:58.356Z"
   },
   {
    "duration": 12,
    "start_time": "2022-08-20T11:34:58.384Z"
   },
   {
    "duration": 20,
    "start_time": "2022-08-20T11:34:58.398Z"
   },
   {
    "duration": 36,
    "start_time": "2022-08-20T11:34:58.420Z"
   },
   {
    "duration": 11,
    "start_time": "2022-08-20T11:34:58.457Z"
   },
   {
    "duration": 6,
    "start_time": "2022-08-20T11:34:58.469Z"
   },
   {
    "duration": 21,
    "start_time": "2022-08-20T11:34:58.477Z"
   },
   {
    "duration": 13,
    "start_time": "2022-08-20T11:34:58.500Z"
   },
   {
    "duration": 9,
    "start_time": "2022-08-20T11:34:58.514Z"
   },
   {
    "duration": 20,
    "start_time": "2022-08-20T11:34:58.524Z"
   },
   {
    "duration": 12,
    "start_time": "2022-08-20T11:34:58.546Z"
   },
   {
    "duration": 53,
    "start_time": "2022-08-23T11:54:01.111Z"
   },
   {
    "duration": 1330,
    "start_time": "2022-08-23T11:54:06.031Z"
   },
   {
    "duration": 693,
    "start_time": "2022-08-23T11:54:07.364Z"
   },
   {
    "duration": 39,
    "start_time": "2022-08-23T11:54:08.059Z"
   },
   {
    "duration": 20,
    "start_time": "2022-08-23T11:54:08.101Z"
   },
   {
    "duration": 89,
    "start_time": "2022-08-23T11:54:08.122Z"
   },
   {
    "duration": 102,
    "start_time": "2022-08-23T11:54:08.213Z"
   },
   {
    "duration": 3,
    "start_time": "2022-08-23T11:54:08.317Z"
   },
   {
    "duration": 15,
    "start_time": "2022-08-23T11:54:08.322Z"
   },
   {
    "duration": 79,
    "start_time": "2022-08-23T11:54:08.338Z"
   },
   {
    "duration": 105,
    "start_time": "2022-08-23T11:54:08.420Z"
   },
   {
    "duration": 26,
    "start_time": "2022-08-23T11:54:08.526Z"
   },
   {
    "duration": 56,
    "start_time": "2022-08-23T11:54:08.554Z"
   },
   {
    "duration": 14,
    "start_time": "2022-08-23T11:54:08.611Z"
   },
   {
    "duration": 25,
    "start_time": "2022-08-23T11:54:08.626Z"
   },
   {
    "duration": 12,
    "start_time": "2022-08-23T11:54:08.653Z"
   },
   {
    "duration": 46,
    "start_time": "2022-08-23T11:54:08.666Z"
   },
   {
    "duration": 21,
    "start_time": "2022-08-23T11:54:08.714Z"
   },
   {
    "duration": 17,
    "start_time": "2022-08-23T11:54:08.737Z"
   },
   {
    "duration": 45,
    "start_time": "2022-08-23T11:54:08.755Z"
   },
   {
    "duration": 411,
    "start_time": "2022-08-23T11:54:08.802Z"
   },
   {
    "duration": 47,
    "start_time": "2022-08-23T11:54:09.215Z"
   },
   {
    "duration": 13,
    "start_time": "2022-08-23T11:54:09.264Z"
   },
   {
    "duration": 6,
    "start_time": "2022-08-23T11:54:09.293Z"
   },
   {
    "duration": 2328,
    "start_time": "2022-08-23T11:54:09.302Z"
   },
   {
    "duration": 8,
    "start_time": "2022-08-23T11:54:11.632Z"
   },
   {
    "duration": 77,
    "start_time": "2022-08-23T11:54:11.642Z"
   },
   {
    "duration": 8,
    "start_time": "2022-08-23T11:54:11.721Z"
   },
   {
    "duration": 78,
    "start_time": "2022-08-23T11:54:11.731Z"
   },
   {
    "duration": 36,
    "start_time": "2022-08-23T11:54:54.417Z"
   },
   {
    "duration": 36,
    "start_time": "2022-08-23T11:55:51.424Z"
   },
   {
    "duration": 66,
    "start_time": "2022-08-23T11:56:16.277Z"
   },
   {
    "duration": 104,
    "start_time": "2022-08-23T11:57:13.343Z"
   },
   {
    "duration": 37,
    "start_time": "2022-08-23T11:57:20.620Z"
   },
   {
    "duration": 503,
    "start_time": "2022-08-23T12:02:33.243Z"
   },
   {
    "duration": 50,
    "start_time": "2022-08-23T12:40:14.669Z"
   },
   {
    "duration": 19,
    "start_time": "2022-08-23T12:40:23.969Z"
   },
   {
    "duration": 17,
    "start_time": "2022-08-23T12:40:31.820Z"
   },
   {
    "duration": 19,
    "start_time": "2022-08-23T12:40:45.607Z"
   },
   {
    "duration": 23,
    "start_time": "2022-08-23T12:40:50.963Z"
   },
   {
    "duration": 18,
    "start_time": "2022-08-23T12:40:56.818Z"
   },
   {
    "duration": 14,
    "start_time": "2022-08-23T12:41:14.628Z"
   },
   {
    "duration": 15,
    "start_time": "2022-08-23T12:41:29.471Z"
   },
   {
    "duration": 19,
    "start_time": "2022-08-23T12:41:53.791Z"
   },
   {
    "duration": 17,
    "start_time": "2022-08-23T12:42:32.206Z"
   },
   {
    "duration": 14,
    "start_time": "2022-08-23T12:42:55.277Z"
   },
   {
    "duration": 15,
    "start_time": "2022-08-23T12:43:00.776Z"
   },
   {
    "duration": 48,
    "start_time": "2022-08-23T15:52:51.545Z"
   },
   {
    "duration": 1213,
    "start_time": "2022-08-23T15:52:59.327Z"
   },
   {
    "duration": 452,
    "start_time": "2022-08-23T15:53:00.542Z"
   },
   {
    "duration": 26,
    "start_time": "2022-08-23T15:53:00.995Z"
   },
   {
    "duration": 13,
    "start_time": "2022-08-23T15:53:01.023Z"
   },
   {
    "duration": 66,
    "start_time": "2022-08-23T15:53:01.037Z"
   },
   {
    "duration": 68,
    "start_time": "2022-08-23T15:53:01.111Z"
   },
   {
    "duration": 3,
    "start_time": "2022-08-23T15:53:01.181Z"
   },
   {
    "duration": 14,
    "start_time": "2022-08-23T15:53:01.185Z"
   },
   {
    "duration": 72,
    "start_time": "2022-08-23T15:53:01.211Z"
   },
   {
    "duration": 90,
    "start_time": "2022-08-23T15:53:01.286Z"
   },
   {
    "duration": 12,
    "start_time": "2022-08-23T15:53:01.377Z"
   },
   {
    "duration": 47,
    "start_time": "2022-08-23T15:53:01.391Z"
   },
   {
    "duration": 16,
    "start_time": "2022-08-23T15:53:01.439Z"
   },
   {
    "duration": 30,
    "start_time": "2022-08-23T15:53:01.457Z"
   },
   {
    "duration": 23,
    "start_time": "2022-08-23T15:53:01.488Z"
   },
   {
    "duration": 13,
    "start_time": "2022-08-23T15:53:01.513Z"
   },
   {
    "duration": 18,
    "start_time": "2022-08-23T15:53:01.527Z"
   },
   {
    "duration": 29,
    "start_time": "2022-08-23T15:53:01.547Z"
   },
   {
    "duration": 87,
    "start_time": "2022-08-23T15:53:01.578Z"
   },
   {
    "duration": 0,
    "start_time": "2022-08-23T15:53:01.669Z"
   },
   {
    "duration": 0,
    "start_time": "2022-08-23T15:53:01.670Z"
   },
   {
    "duration": 0,
    "start_time": "2022-08-23T15:53:01.671Z"
   },
   {
    "duration": 0,
    "start_time": "2022-08-23T15:53:01.672Z"
   },
   {
    "duration": 0,
    "start_time": "2022-08-23T15:53:01.673Z"
   },
   {
    "duration": 0,
    "start_time": "2022-08-23T15:53:01.674Z"
   },
   {
    "duration": 0,
    "start_time": "2022-08-23T15:53:01.675Z"
   },
   {
    "duration": 0,
    "start_time": "2022-08-23T15:53:01.675Z"
   },
   {
    "duration": 0,
    "start_time": "2022-08-23T15:53:01.676Z"
   },
   {
    "duration": 0,
    "start_time": "2022-08-23T15:53:01.677Z"
   },
   {
    "duration": 0,
    "start_time": "2022-08-23T15:53:01.678Z"
   },
   {
    "duration": 0,
    "start_time": "2022-08-23T15:53:01.679Z"
   },
   {
    "duration": 0,
    "start_time": "2022-08-23T15:53:01.680Z"
   },
   {
    "duration": 0,
    "start_time": "2022-08-23T15:53:01.681Z"
   },
   {
    "duration": 0,
    "start_time": "2022-08-23T15:53:01.682Z"
   },
   {
    "duration": 0,
    "start_time": "2022-08-23T15:53:01.683Z"
   },
   {
    "duration": 0,
    "start_time": "2022-08-23T15:53:01.684Z"
   },
   {
    "duration": 0,
    "start_time": "2022-08-23T15:53:01.711Z"
   },
   {
    "duration": 0,
    "start_time": "2022-08-23T15:53:01.712Z"
   },
   {
    "duration": 0,
    "start_time": "2022-08-23T15:53:01.713Z"
   },
   {
    "duration": 0,
    "start_time": "2022-08-23T15:53:01.714Z"
   },
   {
    "duration": 0,
    "start_time": "2022-08-23T15:53:01.715Z"
   },
   {
    "duration": 0,
    "start_time": "2022-08-23T15:53:01.716Z"
   },
   {
    "duration": 0,
    "start_time": "2022-08-23T15:53:01.716Z"
   },
   {
    "duration": 0,
    "start_time": "2022-08-23T15:53:01.717Z"
   },
   {
    "duration": 0,
    "start_time": "2022-08-23T15:53:01.718Z"
   },
   {
    "duration": 0,
    "start_time": "2022-08-23T15:53:01.719Z"
   },
   {
    "duration": 0,
    "start_time": "2022-08-23T15:53:01.720Z"
   },
   {
    "duration": 0,
    "start_time": "2022-08-23T15:53:01.720Z"
   },
   {
    "duration": 0,
    "start_time": "2022-08-23T15:53:01.721Z"
   },
   {
    "duration": 0,
    "start_time": "2022-08-23T15:53:01.722Z"
   },
   {
    "duration": 0,
    "start_time": "2022-08-23T15:53:01.723Z"
   },
   {
    "duration": 0,
    "start_time": "2022-08-23T15:53:01.724Z"
   },
   {
    "duration": 0,
    "start_time": "2022-08-23T15:53:01.725Z"
   },
   {
    "duration": 0,
    "start_time": "2022-08-23T15:53:01.725Z"
   },
   {
    "duration": 0,
    "start_time": "2022-08-23T15:53:01.726Z"
   },
   {
    "duration": 0,
    "start_time": "2022-08-23T15:53:01.727Z"
   },
   {
    "duration": 0,
    "start_time": "2022-08-23T15:53:01.728Z"
   },
   {
    "duration": 0,
    "start_time": "2022-08-23T15:53:01.729Z"
   },
   {
    "duration": 0,
    "start_time": "2022-08-23T15:53:01.729Z"
   },
   {
    "duration": 0,
    "start_time": "2022-08-23T15:53:01.730Z"
   },
   {
    "duration": 0,
    "start_time": "2022-08-23T15:53:01.731Z"
   },
   {
    "duration": 0,
    "start_time": "2022-08-23T15:53:01.732Z"
   },
   {
    "duration": 0,
    "start_time": "2022-08-23T15:53:01.733Z"
   },
   {
    "duration": 0,
    "start_time": "2022-08-23T15:53:01.734Z"
   },
   {
    "duration": 0,
    "start_time": "2022-08-23T15:53:01.734Z"
   },
   {
    "duration": 0,
    "start_time": "2022-08-23T15:53:01.735Z"
   },
   {
    "duration": 0,
    "start_time": "2022-08-23T15:53:01.736Z"
   },
   {
    "duration": 14,
    "start_time": "2022-08-23T15:53:37.380Z"
   },
   {
    "duration": 13,
    "start_time": "2022-08-23T15:53:39.132Z"
   },
   {
    "duration": 14,
    "start_time": "2022-08-23T15:53:41.016Z"
   },
   {
    "duration": 9,
    "start_time": "2022-08-23T15:58:34.346Z"
   },
   {
    "duration": 4,
    "start_time": "2022-08-23T15:58:41.215Z"
   },
   {
    "duration": 143,
    "start_time": "2022-08-23T15:58:41.224Z"
   },
   {
    "duration": 21,
    "start_time": "2022-08-23T15:58:41.369Z"
   },
   {
    "duration": 12,
    "start_time": "2022-08-23T15:58:41.392Z"
   },
   {
    "duration": 53,
    "start_time": "2022-08-23T15:58:41.411Z"
   },
   {
    "duration": 70,
    "start_time": "2022-08-23T15:58:41.466Z"
   },
   {
    "duration": 3,
    "start_time": "2022-08-23T15:58:41.538Z"
   },
   {
    "duration": 9,
    "start_time": "2022-08-23T15:58:41.542Z"
   },
   {
    "duration": 73,
    "start_time": "2022-08-23T15:58:41.552Z"
   },
   {
    "duration": 89,
    "start_time": "2022-08-23T15:58:41.627Z"
   },
   {
    "duration": 13,
    "start_time": "2022-08-23T15:58:41.719Z"
   },
   {
    "duration": 37,
    "start_time": "2022-08-23T15:58:41.733Z"
   },
   {
    "duration": 10,
    "start_time": "2022-08-23T15:58:41.772Z"
   },
   {
    "duration": 37,
    "start_time": "2022-08-23T15:58:41.783Z"
   },
   {
    "duration": 15,
    "start_time": "2022-08-23T15:58:41.822Z"
   },
   {
    "duration": 13,
    "start_time": "2022-08-23T15:58:41.839Z"
   },
   {
    "duration": 12,
    "start_time": "2022-08-23T15:58:41.854Z"
   },
   {
    "duration": 13,
    "start_time": "2022-08-23T15:58:41.867Z"
   },
   {
    "duration": 33,
    "start_time": "2022-08-23T15:58:41.881Z"
   },
   {
    "duration": 13,
    "start_time": "2022-08-23T15:58:41.915Z"
   },
   {
    "duration": 15,
    "start_time": "2022-08-23T15:58:41.930Z"
   },
   {
    "duration": 349,
    "start_time": "2022-08-23T15:58:41.947Z"
   },
   {
    "duration": 45,
    "start_time": "2022-08-23T15:58:42.297Z"
   },
   {
    "duration": 11,
    "start_time": "2022-08-23T15:58:42.343Z"
   },
   {
    "duration": 9,
    "start_time": "2022-08-23T15:58:42.355Z"
   },
   {
    "duration": 2246,
    "start_time": "2022-08-23T15:58:42.365Z"
   },
   {
    "duration": 6,
    "start_time": "2022-08-23T15:58:44.612Z"
   },
   {
    "duration": 48,
    "start_time": "2022-08-23T15:58:44.619Z"
   },
   {
    "duration": 64,
    "start_time": "2022-08-23T15:58:54.849Z"
   },
   {
    "duration": 60,
    "start_time": "2022-08-23T15:59:19.253Z"
   },
   {
    "duration": 4,
    "start_time": "2022-08-23T15:59:35.728Z"
   },
   {
    "duration": 147,
    "start_time": "2022-08-23T15:59:35.734Z"
   },
   {
    "duration": 20,
    "start_time": "2022-08-23T15:59:35.882Z"
   },
   {
    "duration": 12,
    "start_time": "2022-08-23T15:59:35.911Z"
   },
   {
    "duration": 45,
    "start_time": "2022-08-23T15:59:35.925Z"
   },
   {
    "duration": 67,
    "start_time": "2022-08-23T15:59:35.971Z"
   },
   {
    "duration": 2,
    "start_time": "2022-08-23T15:59:36.040Z"
   },
   {
    "duration": 12,
    "start_time": "2022-08-23T15:59:36.044Z"
   },
   {
    "duration": 68,
    "start_time": "2022-08-23T15:59:36.057Z"
   },
   {
    "duration": 87,
    "start_time": "2022-08-23T15:59:36.126Z"
   },
   {
    "duration": 20,
    "start_time": "2022-08-23T15:59:36.215Z"
   },
   {
    "duration": 39,
    "start_time": "2022-08-23T15:59:36.236Z"
   },
   {
    "duration": 10,
    "start_time": "2022-08-23T15:59:36.276Z"
   },
   {
    "duration": 38,
    "start_time": "2022-08-23T15:59:36.289Z"
   },
   {
    "duration": 11,
    "start_time": "2022-08-23T15:59:36.329Z"
   },
   {
    "duration": 13,
    "start_time": "2022-08-23T15:59:36.341Z"
   },
   {
    "duration": 12,
    "start_time": "2022-08-23T15:59:36.356Z"
   },
   {
    "duration": 11,
    "start_time": "2022-08-23T15:59:36.369Z"
   },
   {
    "duration": 36,
    "start_time": "2022-08-23T15:59:36.382Z"
   },
   {
    "duration": 13,
    "start_time": "2022-08-23T15:59:36.420Z"
   },
   {
    "duration": 16,
    "start_time": "2022-08-23T15:59:36.435Z"
   },
   {
    "duration": 274,
    "start_time": "2022-08-23T15:59:36.452Z"
   },
   {
    "duration": 41,
    "start_time": "2022-08-23T15:59:36.728Z"
   },
   {
    "duration": 11,
    "start_time": "2022-08-23T15:59:36.771Z"
   },
   {
    "duration": 8,
    "start_time": "2022-08-23T15:59:36.783Z"
   },
   {
    "duration": 2127,
    "start_time": "2022-08-23T15:59:36.793Z"
   },
   {
    "duration": 6,
    "start_time": "2022-08-23T15:59:38.921Z"
   },
   {
    "duration": 41,
    "start_time": "2022-08-23T15:59:38.929Z"
   },
   {
    "duration": 77,
    "start_time": "2022-08-23T15:59:38.971Z"
   },
   {
    "duration": 19,
    "start_time": "2022-08-23T15:59:39.049Z"
   },
   {
    "duration": 68,
    "start_time": "2022-08-23T15:59:39.070Z"
   },
   {
    "duration": 6,
    "start_time": "2022-08-23T15:59:47.022Z"
   },
   {
    "duration": 471,
    "start_time": "2022-08-23T15:59:50.640Z"
   },
   {
    "duration": 3,
    "start_time": "2022-08-23T16:00:06.055Z"
   },
   {
    "duration": 510,
    "start_time": "2022-08-23T16:01:42.304Z"
   },
   {
    "duration": 37,
    "start_time": "2022-08-23T16:01:42.816Z"
   },
   {
    "duration": 444,
    "start_time": "2022-08-23T16:01:56.016Z"
   },
   {
    "duration": 7,
    "start_time": "2022-08-23T16:02:29.777Z"
   },
   {
    "duration": 35,
    "start_time": "2022-08-23T16:02:57.610Z"
   },
   {
    "duration": 4,
    "start_time": "2022-08-23T16:03:03.832Z"
   },
   {
    "duration": 493,
    "start_time": "2022-08-23T16:04:28.520Z"
   },
   {
    "duration": 474,
    "start_time": "2022-08-23T16:04:55.554Z"
   },
   {
    "duration": 16,
    "start_time": "2022-08-23T16:05:12.151Z"
   },
   {
    "duration": 12,
    "start_time": "2022-08-23T16:05:18.173Z"
   },
   {
    "duration": 15,
    "start_time": "2022-08-23T16:05:20.792Z"
   },
   {
    "duration": 12,
    "start_time": "2022-08-23T16:05:28.994Z"
   },
   {
    "duration": 9,
    "start_time": "2022-08-23T16:15:53.227Z"
   },
   {
    "duration": 4,
    "start_time": "2022-08-23T16:16:01.159Z"
   },
   {
    "duration": 173,
    "start_time": "2022-08-23T16:16:01.167Z"
   },
   {
    "duration": 21,
    "start_time": "2022-08-23T16:16:01.342Z"
   },
   {
    "duration": 14,
    "start_time": "2022-08-23T16:16:01.364Z"
   },
   {
    "duration": 63,
    "start_time": "2022-08-23T16:16:01.380Z"
   },
   {
    "duration": 51,
    "start_time": "2022-08-23T16:16:01.445Z"
   },
   {
    "duration": 34,
    "start_time": "2022-08-23T16:16:01.497Z"
   },
   {
    "duration": 39,
    "start_time": "2022-08-23T16:16:01.532Z"
   },
   {
    "duration": 98,
    "start_time": "2022-08-23T16:16:01.573Z"
   },
   {
    "duration": 95,
    "start_time": "2022-08-23T16:16:01.673Z"
   },
   {
    "duration": 122,
    "start_time": "2022-08-23T16:16:01.771Z"
   },
   {
    "duration": 64,
    "start_time": "2022-08-23T16:16:01.894Z"
   },
   {
    "duration": 12,
    "start_time": "2022-08-23T16:16:01.959Z"
   },
   {
    "duration": 43,
    "start_time": "2022-08-23T16:16:01.973Z"
   },
   {
    "duration": 20,
    "start_time": "2022-08-23T16:16:02.018Z"
   },
   {
    "duration": 15,
    "start_time": "2022-08-23T16:16:02.040Z"
   },
   {
    "duration": 22,
    "start_time": "2022-08-23T16:16:02.057Z"
   },
   {
    "duration": 13,
    "start_time": "2022-08-23T16:16:02.081Z"
   },
   {
    "duration": 18,
    "start_time": "2022-08-23T16:16:02.095Z"
   },
   {
    "duration": 15,
    "start_time": "2022-08-23T16:16:02.114Z"
   },
   {
    "duration": 19,
    "start_time": "2022-08-23T16:16:02.131Z"
   },
   {
    "duration": 277,
    "start_time": "2022-08-23T16:16:02.152Z"
   },
   {
    "duration": 46,
    "start_time": "2022-08-23T16:16:02.431Z"
   },
   {
    "duration": 13,
    "start_time": "2022-08-23T16:16:02.479Z"
   },
   {
    "duration": 25,
    "start_time": "2022-08-23T16:16:02.493Z"
   },
   {
    "duration": 2206,
    "start_time": "2022-08-23T16:16:02.519Z"
   },
   {
    "duration": 6,
    "start_time": "2022-08-23T16:16:04.726Z"
   },
   {
    "duration": 41,
    "start_time": "2022-08-23T16:16:04.734Z"
   },
   {
    "duration": 78,
    "start_time": "2022-08-23T16:16:04.778Z"
   },
   {
    "duration": 19,
    "start_time": "2022-08-23T16:16:04.858Z"
   },
   {
    "duration": 62,
    "start_time": "2022-08-23T16:16:04.878Z"
   },
   {
    "duration": 6,
    "start_time": "2022-08-23T16:16:04.941Z"
   },
   {
    "duration": 478,
    "start_time": "2022-08-23T16:16:04.948Z"
   },
   {
    "duration": 3,
    "start_time": "2022-08-23T16:16:05.428Z"
   },
   {
    "duration": 21,
    "start_time": "2022-08-23T16:16:05.437Z"
   },
   {
    "duration": 11,
    "start_time": "2022-08-23T16:16:05.460Z"
   },
   {
    "duration": 11,
    "start_time": "2022-08-23T16:16:05.472Z"
   },
   {
    "duration": 31,
    "start_time": "2022-08-23T16:16:05.484Z"
   },
   {
    "duration": 11,
    "start_time": "2022-08-23T16:16:05.516Z"
   },
   {
    "duration": 7,
    "start_time": "2022-08-23T16:16:05.528Z"
   },
   {
    "duration": 8,
    "start_time": "2022-08-23T16:16:05.536Z"
   },
   {
    "duration": 14,
    "start_time": "2022-08-23T16:16:05.545Z"
   },
   {
    "duration": 203,
    "start_time": "2022-08-23T16:16:05.560Z"
   },
   {
    "duration": 48,
    "start_time": "2022-08-23T16:16:05.765Z"
   },
   {
    "duration": 3,
    "start_time": "2022-08-23T16:16:05.814Z"
   },
   {
    "duration": 225,
    "start_time": "2022-08-23T16:16:05.819Z"
   },
   {
    "duration": 33,
    "start_time": "2022-08-23T16:16:06.045Z"
   },
   {
    "duration": 3,
    "start_time": "2022-08-23T16:16:06.080Z"
   },
   {
    "duration": 28,
    "start_time": "2022-08-23T16:16:06.084Z"
   },
   {
    "duration": 8,
    "start_time": "2022-08-23T16:16:27.963Z"
   },
   {
    "duration": 1064,
    "start_time": "2022-08-23T16:27:58.687Z"
   },
   {
    "duration": 147,
    "start_time": "2022-08-23T16:27:59.753Z"
   },
   {
    "duration": 25,
    "start_time": "2022-08-23T16:27:59.902Z"
   },
   {
    "duration": 11,
    "start_time": "2022-08-23T16:27:59.929Z"
   },
   {
    "duration": 70,
    "start_time": "2022-08-23T16:27:59.942Z"
   },
   {
    "duration": 70,
    "start_time": "2022-08-23T16:28:00.013Z"
   },
   {
    "duration": 3,
    "start_time": "2022-08-23T16:28:00.085Z"
   },
   {
    "duration": 22,
    "start_time": "2022-08-23T16:28:00.089Z"
   },
   {
    "duration": 59,
    "start_time": "2022-08-23T16:28:00.112Z"
   },
   {
    "duration": 91,
    "start_time": "2022-08-23T16:28:00.172Z"
   },
   {
    "duration": 27,
    "start_time": "2022-08-23T16:28:00.264Z"
   },
   {
    "duration": 44,
    "start_time": "2022-08-23T16:28:00.293Z"
   },
   {
    "duration": 11,
    "start_time": "2022-08-23T16:28:00.341Z"
   },
   {
    "duration": 22,
    "start_time": "2022-08-23T16:28:00.353Z"
   },
   {
    "duration": 15,
    "start_time": "2022-08-23T16:28:00.377Z"
   },
   {
    "duration": 31,
    "start_time": "2022-08-23T16:28:00.393Z"
   },
   {
    "duration": 15,
    "start_time": "2022-08-23T16:28:00.425Z"
   },
   {
    "duration": 15,
    "start_time": "2022-08-23T16:28:00.442Z"
   },
   {
    "duration": 19,
    "start_time": "2022-08-23T16:28:00.459Z"
   },
   {
    "duration": 14,
    "start_time": "2022-08-23T16:28:00.480Z"
   },
   {
    "duration": 32,
    "start_time": "2022-08-23T16:28:00.495Z"
   },
   {
    "duration": 348,
    "start_time": "2022-08-23T16:28:00.528Z"
   },
   {
    "duration": 47,
    "start_time": "2022-08-23T16:28:00.877Z"
   },
   {
    "duration": 11,
    "start_time": "2022-08-23T16:28:00.925Z"
   },
   {
    "duration": 18,
    "start_time": "2022-08-23T16:28:00.937Z"
   },
   {
    "duration": 2245,
    "start_time": "2022-08-23T16:28:00.956Z"
   },
   {
    "duration": 11,
    "start_time": "2022-08-23T16:28:03.202Z"
   },
   {
    "duration": 51,
    "start_time": "2022-08-23T16:28:03.214Z"
   },
   {
    "duration": 83,
    "start_time": "2022-08-23T16:28:03.266Z"
   },
   {
    "duration": 19,
    "start_time": "2022-08-23T16:28:03.350Z"
   },
   {
    "duration": 77,
    "start_time": "2022-08-23T16:28:03.371Z"
   },
   {
    "duration": 5,
    "start_time": "2022-08-23T16:28:03.450Z"
   },
   {
    "duration": 486,
    "start_time": "2022-08-23T16:28:03.457Z"
   },
   {
    "duration": 3,
    "start_time": "2022-08-23T16:28:03.944Z"
   },
   {
    "duration": 26,
    "start_time": "2022-08-23T16:28:03.949Z"
   },
   {
    "duration": 11,
    "start_time": "2022-08-23T16:28:03.976Z"
   },
   {
    "duration": 22,
    "start_time": "2022-08-23T16:28:03.989Z"
   },
   {
    "duration": 12,
    "start_time": "2022-08-23T16:28:04.012Z"
   },
   {
    "duration": 11,
    "start_time": "2022-08-23T16:28:04.025Z"
   },
   {
    "duration": 11,
    "start_time": "2022-08-23T16:28:04.039Z"
   },
   {
    "duration": 8,
    "start_time": "2022-08-23T16:28:04.052Z"
   },
   {
    "duration": 13,
    "start_time": "2022-08-23T16:28:04.061Z"
   },
   {
    "duration": 158,
    "start_time": "2022-08-23T16:28:04.076Z"
   },
   {
    "duration": 82,
    "start_time": "2022-08-23T16:28:04.236Z"
   },
   {
    "duration": 4,
    "start_time": "2022-08-23T16:28:04.319Z"
   },
   {
    "duration": 214,
    "start_time": "2022-08-23T16:28:04.324Z"
   },
   {
    "duration": 35,
    "start_time": "2022-08-23T16:28:04.540Z"
   },
   {
    "duration": 4,
    "start_time": "2022-08-23T16:28:04.576Z"
   },
   {
    "duration": 30,
    "start_time": "2022-08-23T16:28:04.581Z"
   },
   {
    "duration": 8,
    "start_time": "2022-08-23T16:28:04.612Z"
   },
   {
    "duration": 9,
    "start_time": "2022-08-23T16:28:04.621Z"
   },
   {
    "duration": 10,
    "start_time": "2022-08-23T16:28:04.631Z"
   },
   {
    "duration": 11,
    "start_time": "2022-08-23T16:28:04.642Z"
   },
   {
    "duration": 9,
    "start_time": "2022-08-23T16:28:04.654Z"
   },
   {
    "duration": 6,
    "start_time": "2022-08-23T16:28:04.664Z"
   },
   {
    "duration": 57,
    "start_time": "2022-08-23T16:28:04.672Z"
   },
   {
    "duration": 9,
    "start_time": "2022-08-23T16:28:04.731Z"
   },
   {
    "duration": 4,
    "start_time": "2022-08-23T16:28:04.741Z"
   },
   {
    "duration": 5,
    "start_time": "2022-08-23T16:28:04.746Z"
   },
   {
    "duration": 13,
    "start_time": "2022-08-23T16:28:04.752Z"
   },
   {
    "duration": 1100,
    "start_time": "2022-08-23T16:33:26.436Z"
   },
   {
    "duration": 146,
    "start_time": "2022-08-23T16:33:27.537Z"
   },
   {
    "duration": 29,
    "start_time": "2022-08-23T16:33:27.685Z"
   },
   {
    "duration": 12,
    "start_time": "2022-08-23T16:33:27.716Z"
   },
   {
    "duration": 63,
    "start_time": "2022-08-23T16:33:27.730Z"
   },
   {
    "duration": 84,
    "start_time": "2022-08-23T16:33:27.794Z"
   },
   {
    "duration": 2,
    "start_time": "2022-08-23T16:33:27.880Z"
   },
   {
    "duration": 9,
    "start_time": "2022-08-23T16:33:27.884Z"
   },
   {
    "duration": 71,
    "start_time": "2022-08-23T16:33:27.894Z"
   },
   {
    "duration": 93,
    "start_time": "2022-08-23T16:33:27.967Z"
   },
   {
    "duration": 14,
    "start_time": "2022-08-23T16:33:28.062Z"
   },
   {
    "duration": 48,
    "start_time": "2022-08-23T16:33:28.078Z"
   },
   {
    "duration": 12,
    "start_time": "2022-08-23T16:33:28.127Z"
   },
   {
    "duration": 21,
    "start_time": "2022-08-23T16:33:28.140Z"
   },
   {
    "duration": 21,
    "start_time": "2022-08-23T16:33:28.163Z"
   },
   {
    "duration": 26,
    "start_time": "2022-08-23T16:33:28.186Z"
   },
   {
    "duration": 14,
    "start_time": "2022-08-23T16:33:28.214Z"
   },
   {
    "duration": 12,
    "start_time": "2022-08-23T16:33:28.230Z"
   },
   {
    "duration": 12,
    "start_time": "2022-08-23T16:33:28.244Z"
   },
   {
    "duration": 14,
    "start_time": "2022-08-23T16:33:28.258Z"
   },
   {
    "duration": 49,
    "start_time": "2022-08-23T16:33:28.274Z"
   },
   {
    "duration": 353,
    "start_time": "2022-08-23T16:33:28.325Z"
   },
   {
    "duration": 46,
    "start_time": "2022-08-23T16:33:28.679Z"
   },
   {
    "duration": 11,
    "start_time": "2022-08-23T16:33:28.726Z"
   },
   {
    "duration": 7,
    "start_time": "2022-08-23T16:33:28.739Z"
   },
   {
    "duration": 2206,
    "start_time": "2022-08-23T16:33:28.748Z"
   },
   {
    "duration": 7,
    "start_time": "2022-08-23T16:33:30.956Z"
   },
   {
    "duration": 63,
    "start_time": "2022-08-23T16:33:30.968Z"
   },
   {
    "duration": 63,
    "start_time": "2022-08-23T16:33:31.033Z"
   },
   {
    "duration": 29,
    "start_time": "2022-08-23T16:33:31.098Z"
   },
   {
    "duration": 78,
    "start_time": "2022-08-23T16:33:31.128Z"
   },
   {
    "duration": 6,
    "start_time": "2022-08-23T16:33:31.207Z"
   },
   {
    "duration": 485,
    "start_time": "2022-08-23T16:33:31.214Z"
   },
   {
    "duration": 3,
    "start_time": "2022-08-23T16:33:31.701Z"
   },
   {
    "duration": 29,
    "start_time": "2022-08-23T16:33:31.710Z"
   },
   {
    "duration": 13,
    "start_time": "2022-08-23T16:33:31.740Z"
   },
   {
    "duration": 22,
    "start_time": "2022-08-23T16:33:31.754Z"
   },
   {
    "duration": 20,
    "start_time": "2022-08-23T16:33:31.778Z"
   },
   {
    "duration": 17,
    "start_time": "2022-08-23T16:33:31.800Z"
   },
   {
    "duration": 16,
    "start_time": "2022-08-23T16:33:31.819Z"
   },
   {
    "duration": 30,
    "start_time": "2022-08-23T16:33:31.836Z"
   },
   {
    "duration": 30,
    "start_time": "2022-08-23T16:33:31.867Z"
   },
   {
    "duration": 179,
    "start_time": "2022-08-23T16:33:31.899Z"
   },
   {
    "duration": 41,
    "start_time": "2022-08-23T16:33:32.080Z"
   },
   {
    "duration": 2,
    "start_time": "2022-08-23T16:33:32.123Z"
   },
   {
    "duration": 232,
    "start_time": "2022-08-23T16:33:32.127Z"
   },
   {
    "duration": 52,
    "start_time": "2022-08-23T16:33:32.360Z"
   },
   {
    "duration": 4,
    "start_time": "2022-08-23T16:33:32.414Z"
   },
   {
    "duration": 20,
    "start_time": "2022-08-23T16:33:32.421Z"
   },
   {
    "duration": 16,
    "start_time": "2022-08-23T16:33:32.443Z"
   },
   {
    "duration": 27,
    "start_time": "2022-08-23T16:33:32.460Z"
   },
   {
    "duration": 13,
    "start_time": "2022-08-23T16:33:32.489Z"
   },
   {
    "duration": 38,
    "start_time": "2022-08-23T16:33:32.504Z"
   },
   {
    "duration": 32,
    "start_time": "2022-08-23T16:33:32.544Z"
   },
   {
    "duration": 24,
    "start_time": "2022-08-23T16:33:32.578Z"
   },
   {
    "duration": 43,
    "start_time": "2022-08-23T16:33:32.604Z"
   },
   {
    "duration": 13,
    "start_time": "2022-08-23T16:33:32.650Z"
   },
   {
    "duration": 22,
    "start_time": "2022-08-23T16:33:32.665Z"
   },
   {
    "duration": 68,
    "start_time": "2022-08-23T16:33:32.688Z"
   },
   {
    "duration": 14,
    "start_time": "2022-08-23T16:33:32.757Z"
   },
   {
    "duration": 1121,
    "start_time": "2022-08-24T08:40:37.536Z"
   },
   {
    "duration": 566,
    "start_time": "2022-08-24T08:40:38.659Z"
   },
   {
    "duration": 30,
    "start_time": "2022-08-24T08:40:39.226Z"
   },
   {
    "duration": 15,
    "start_time": "2022-08-24T08:40:39.259Z"
   },
   {
    "duration": 77,
    "start_time": "2022-08-24T08:40:39.276Z"
   },
   {
    "duration": 90,
    "start_time": "2022-08-24T08:40:39.355Z"
   },
   {
    "duration": 3,
    "start_time": "2022-08-24T08:40:39.447Z"
   },
   {
    "duration": 11,
    "start_time": "2022-08-24T08:40:39.452Z"
   },
   {
    "duration": 90,
    "start_time": "2022-08-24T08:40:39.465Z"
   },
   {
    "duration": 99,
    "start_time": "2022-08-24T08:40:39.558Z"
   },
   {
    "duration": 31,
    "start_time": "2022-08-24T08:40:39.659Z"
   },
   {
    "duration": 44,
    "start_time": "2022-08-24T08:40:39.702Z"
   },
   {
    "duration": 11,
    "start_time": "2022-08-24T08:40:39.748Z"
   },
   {
    "duration": 51,
    "start_time": "2022-08-24T08:40:39.760Z"
   },
   {
    "duration": 13,
    "start_time": "2022-08-24T08:40:39.812Z"
   },
   {
    "duration": 16,
    "start_time": "2022-08-24T08:40:39.827Z"
   },
   {
    "duration": 24,
    "start_time": "2022-08-24T08:40:39.845Z"
   },
   {
    "duration": 49,
    "start_time": "2022-08-24T08:40:39.872Z"
   },
   {
    "duration": 21,
    "start_time": "2022-08-24T08:40:39.923Z"
   },
   {
    "duration": 16,
    "start_time": "2022-08-24T08:40:39.946Z"
   },
   {
    "duration": 44,
    "start_time": "2022-08-24T08:40:39.964Z"
   },
   {
    "duration": 461,
    "start_time": "2022-08-24T08:40:40.009Z"
   },
   {
    "duration": 53,
    "start_time": "2022-08-24T08:40:40.472Z"
   },
   {
    "duration": 13,
    "start_time": "2022-08-24T08:40:40.526Z"
   },
   {
    "duration": 8,
    "start_time": "2022-08-24T08:40:40.541Z"
   },
   {
    "duration": 2341,
    "start_time": "2022-08-24T08:40:40.551Z"
   },
   {
    "duration": 10,
    "start_time": "2022-08-24T08:40:42.894Z"
   },
   {
    "duration": 56,
    "start_time": "2022-08-24T08:40:42.908Z"
   },
   {
    "duration": 82,
    "start_time": "2022-08-24T08:40:42.965Z"
   },
   {
    "duration": 22,
    "start_time": "2022-08-24T08:40:43.049Z"
   },
   {
    "duration": 81,
    "start_time": "2022-08-24T08:40:43.073Z"
   },
   {
    "duration": 7,
    "start_time": "2022-08-24T08:40:43.155Z"
   },
   {
    "duration": 485,
    "start_time": "2022-08-24T08:40:43.164Z"
   },
   {
    "duration": 4,
    "start_time": "2022-08-24T08:40:43.651Z"
   },
   {
    "duration": 43,
    "start_time": "2022-08-24T08:40:43.656Z"
   },
   {
    "duration": 17,
    "start_time": "2022-08-24T08:40:43.701Z"
   },
   {
    "duration": 76,
    "start_time": "2022-08-24T08:40:43.719Z"
   },
   {
    "duration": 41,
    "start_time": "2022-08-24T08:40:43.797Z"
   },
   {
    "duration": 21,
    "start_time": "2022-08-24T08:40:43.839Z"
   },
   {
    "duration": 40,
    "start_time": "2022-08-24T08:40:43.862Z"
   },
   {
    "duration": 36,
    "start_time": "2022-08-24T08:40:43.903Z"
   },
   {
    "duration": 25,
    "start_time": "2022-08-24T08:40:43.941Z"
   },
   {
    "duration": 181,
    "start_time": "2022-08-24T08:40:43.968Z"
   },
   {
    "duration": 85,
    "start_time": "2022-08-24T08:40:44.151Z"
   },
   {
    "duration": 5,
    "start_time": "2022-08-24T08:40:44.239Z"
   },
   {
    "duration": 320,
    "start_time": "2022-08-24T08:40:44.246Z"
   },
   {
    "duration": 53,
    "start_time": "2022-08-24T08:40:44.567Z"
   },
   {
    "duration": 3,
    "start_time": "2022-08-24T08:40:44.622Z"
   },
   {
    "duration": 24,
    "start_time": "2022-08-24T08:40:44.627Z"
   },
   {
    "duration": 35,
    "start_time": "2022-08-24T08:40:44.653Z"
   },
   {
    "duration": 35,
    "start_time": "2022-08-24T08:40:44.691Z"
   },
   {
    "duration": 28,
    "start_time": "2022-08-24T08:40:44.728Z"
   },
   {
    "duration": 29,
    "start_time": "2022-08-24T08:40:44.758Z"
   },
   {
    "duration": 17,
    "start_time": "2022-08-24T08:40:44.789Z"
   },
   {
    "duration": 29,
    "start_time": "2022-08-24T08:40:44.809Z"
   },
   {
    "duration": 38,
    "start_time": "2022-08-24T08:40:44.840Z"
   },
   {
    "duration": 43,
    "start_time": "2022-08-24T08:40:44.880Z"
   },
   {
    "duration": 21,
    "start_time": "2022-08-24T08:40:44.924Z"
   },
   {
    "duration": 25,
    "start_time": "2022-08-24T08:40:44.947Z"
   },
   {
    "duration": 24,
    "start_time": "2022-08-24T08:40:44.974Z"
   }
  ],
  "kernelspec": {
   "display_name": "Python 3 (ipykernel)",
   "language": "python",
   "name": "python3"
  },
  "language_info": {
   "codemirror_mode": {
    "name": "ipython",
    "version": 3
   },
   "file_extension": ".py",
   "mimetype": "text/x-python",
   "name": "python",
   "nbconvert_exporter": "python",
   "pygments_lexer": "ipython3",
   "version": "3.9.7"
  },
  "toc": {
   "base_numbering": 1,
   "nav_menu": {},
   "number_sections": true,
   "sideBar": true,
   "skip_h1_title": true,
   "title_cell": "Table of Contents",
   "title_sidebar": "Contents",
   "toc_cell": false,
   "toc_position": {},
   "toc_section_display": true,
   "toc_window_display": false
  }
 },
 "nbformat": 4,
 "nbformat_minor": 5
}
